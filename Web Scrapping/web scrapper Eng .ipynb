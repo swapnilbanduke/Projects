{
 "cells": [
  {
   "cell_type": "code",
   "execution_count": 1,
   "id": "811e8eff-3091-44fb-920f-7372cdc9333c",
   "metadata": {},
   "outputs": [],
   "source": [
    "import requests\n",
    "from bs4 import BeautifulSoup as bs\n",
    "from urllib.request import urlopen\n",
    "import logging"
   ]
  },
  {
   "cell_type": "code",
   "execution_count": 2,
   "id": "4238e01e-a479-4081-8cde-e1d71304671b",
   "metadata": {},
   "outputs": [],
   "source": [
    "flipcart_url = \"https://www.flipkart.com/search?q=\" + \"tv\""
   ]
  },
  {
   "cell_type": "code",
   "execution_count": 3,
   "id": "453b19d4-d454-483b-8e0b-cfd4ba2262c2",
   "metadata": {},
   "outputs": [
    {
     "data": {
      "text/plain": [
       "'https://www.flipkart.com/search?q=tv'"
      ]
     },
     "execution_count": 3,
     "metadata": {},
     "output_type": "execute_result"
    }
   ],
   "source": [
    "flipcart_url"
   ]
  },
  {
   "cell_type": "code",
   "execution_count": 4,
   "id": "cdeed42d-3b6d-47b1-980b-59ee8d715e05",
   "metadata": {},
   "outputs": [],
   "source": [
    "urlclient = urlopen(flipcart_url)"
   ]
  },
  {
   "cell_type": "code",
   "execution_count": 5,
   "id": "2e1c9fc0-1e8e-4e02-9dc7-a9d796fe3947",
   "metadata": {},
   "outputs": [],
   "source": [
    "flipcart_page = urlclient.read()"
   ]
  },
  {
   "cell_type": "code",
   "execution_count": 6,
   "id": "7051e647-b8e1-4a97-a8d0-8f8b9975191f",
   "metadata": {},
   "outputs": [],
   "source": [
    "flipcart_html = bs(flipcart_page , 'html.parser')"
   ]
  },
  {
   "cell_type": "code",
   "execution_count": 7,
   "id": "941157fd-b672-49e1-a745-ec2c65a35881",
   "metadata": {},
   "outputs": [
    {
     "data": {
      "text/plain": [
       "'https://www.flipkart.com/dyanora-sigma-108-cm-43-inch-full-hd-led-smart-linux-tv-40-watt-box-speakers-bezel-less-design/p/itmcdbced04b2319?pid=TVSGHZAGFYKGZQ8K&lid=LSTTVSGHZAGFYKGZQ8KUAM8H1&marketplace=FLIPKART&q=tv&store=ckf%2Fczl&srno=s_1_1&otracker=search&otracker1=search&fm=organic&iid=en_xF8tH%2FD493QWU9p74CMkRhAnl%2FZDSt2g4RX8asyXf547oHm6aKW0Vwig1Ae%2FF%2BxpMab4jOA70lzjnpWCWaM8Dw%3D%3D&ppt=sp&ppn=sp&ssid=6vokrwan280000001676982936780&qH=c9a1fdac6e082dd8'"
      ]
     },
     "execution_count": 7,
     "metadata": {},
     "output_type": "execute_result"
    }
   ],
   "source": [
    "\"https://www.flipkart.com\"+\"/dyanora-sigma-108-cm-43-inch-full-hd-led-smart-linux-tv-40-watt-box-speakers-bezel-less-design/p/itmcdbced04b2319?pid=TVSGHZAGFYKGZQ8K&lid=LSTTVSGHZAGFYKGZQ8KUAM8H1&marketplace=FLIPKART&q=tv&store=ckf%2Fczl&srno=s_1_1&otracker=search&otracker1=search&fm=organic&iid=en_xF8tH%2FD493QWU9p74CMkRhAnl%2FZDSt2g4RX8asyXf547oHm6aKW0Vwig1Ae%2FF%2BxpMab4jOA70lzjnpWCWaM8Dw%3D%3D&ppt=sp&ppn=sp&ssid=6vokrwan280000001676982936780&qH=c9a1fdac6e082dd8\""
   ]
  },
  {
   "cell_type": "code",
   "execution_count": 8,
   "id": "4b979d12-4f74-4777-b5b3-c48d254a3f93",
   "metadata": {},
   "outputs": [],
   "source": [
    "bigbox = flipcart_html.find_all(\"div\" ,{\"class\":\"_1AtVbE col-12-12\"} )"
   ]
  },
  {
   "cell_type": "code",
   "execution_count": 9,
   "id": "1c696ac3-ad68-4ebe-a523-e5709d3601cc",
   "metadata": {},
   "outputs": [
    {
     "data": {
      "text/plain": [
       "30"
      ]
     },
     "execution_count": 9,
     "metadata": {},
     "output_type": "execute_result"
    }
   ],
   "source": [
    "len(bigbox)"
   ]
  },
  {
   "cell_type": "code",
   "execution_count": 10,
   "id": "814dac9a-ecab-41be-9ace-a765e893b886",
   "metadata": {},
   "outputs": [],
   "source": [
    "del bigbox[0:3]"
   ]
  },
  {
   "cell_type": "code",
   "execution_count": 11,
   "id": "cbf4c815-94f9-499e-a6e3-b84a8e07ea8a",
   "metadata": {},
   "outputs": [],
   "source": [
    "productlink = \"https://www.flipkart.com\" + bigbox[0].div.div.div.a['href']"
   ]
  },
  {
   "cell_type": "code",
   "execution_count": 12,
   "id": "317673bb-67f5-48e6-81a4-a9d6f77e10c8",
   "metadata": {},
   "outputs": [
    {
     "name": "stdout",
     "output_type": "stream",
     "text": [
      "https://www.flipkart.com/haier-165-cm-65-inch-ultra-hd-4k-led-smart-google-tv-dolby-atmos-vision/p/itma4338442a334b?pid=TVSGNPGJKPA8FZT5&lid=LSTTVSGNPGJKPA8FZT5Y5D9DO&marketplace=FLIPKART&q=tv&store=ckf%2Fczl&srno=s_1_2&otracker=search&fm=organic&iid=en_MCW3mkZ64BawW6PaxMjT5PyTKNJSqCezFEOR39yrW4%2F%2F7D9gvJoseTQ8puphOJH1dHCWqeq3N7PuATL3po%2F%2FxA%3D%3D&ppt=None&ppn=None&ssid=5omv8jcgq80000001687188913316&qH=c9a1fdac6e082dd8\n",
      "https://www.flipkart.com/lg-80-cm-32-inch-hd-ready-led-smart-webos-tv/p/itm6207e6d122567?pid=TVSFTW4CSRW8PGDQ&lid=LSTTVSFTW4CSRW8PGDQSZQIO6&marketplace=FLIPKART&q=tv&store=ckf%2Fczl&spotlightTagId=BestsellerId_ckf%2Fczl&srno=s_1_3&otracker=search&fm=organic&iid=2b248e8c-6724-448d-b902-c4d6d9e69a14.TVSFTW4CSRW8PGDQ.SEARCH&ppt=None&ppn=None&ssid=5omv8jcgq80000001687188913316&qH=c9a1fdac6e082dd8\n",
      "https://www.flipkart.com/infinix-y1-80-cm-32-inch-hd-ready-led-smart-linux-tv-wall-mount/p/itme5476ca89d1b0?pid=TVSGFGF34GMTB9KF&lid=LSTTVSGFGF34GMTB9KFNOEUDG&marketplace=FLIPKART&q=tv&store=ckf%2Fczl&spotlightTagId=BestsellerId_ckf%2Fczl&srno=s_1_4&otracker=search&fm=organic&iid=2b248e8c-6724-448d-b902-c4d6d9e69a14.TVSGFGF34GMTB9KF.SEARCH&ppt=None&ppn=None&ssid=5omv8jcgq80000001687188913316&qH=c9a1fdac6e082dd8\n",
      "https://www.flipkart.com/mi-5a-80-cm-32-inch-hd-ready-led-smart-android-tv-dolby-audio-2022-model/p/itm98501ffa297ba?pid=TVSGD5CS2SDUUZGN&lid=LSTTVSGD5CS2SDUUZGNPVJDFV&marketplace=FLIPKART&q=tv&store=ckf%2Fczl&spotlightTagId=FkPickId_ckf%2Fczl&srno=s_1_5&otracker=search&fm=organic&iid=2b248e8c-6724-448d-b902-c4d6d9e69a14.TVSGD5CS2SDUUZGN.SEARCH&ppt=None&ppn=None&ssid=5omv8jcgq80000001687188913316&qH=c9a1fdac6e082dd8\n",
      "https://www.flipkart.com/realme-80-cm-32-inch-hd-ready-led-smart-android-tv/p/itm56d1cf16da75b?pid=TVSFRTJQTZVKTF6Y&lid=LSTTVSFRTJQTZVKTF6YTYQNP6&marketplace=FLIPKART&q=tv&store=ckf%2Fczl&srno=s_1_6&otracker=search&fm=organic&iid=2b248e8c-6724-448d-b902-c4d6d9e69a14.TVSFRTJQTZVKTF6Y.SEARCH&ppt=None&ppn=None&ssid=5omv8jcgq80000001687188913316&qH=c9a1fdac6e082dd8\n",
      "https://www.flipkart.com/oneplus-y1s-80-cm-32-inch-hd-ready-led-smart-android-tv-11-bezel-less-frame/p/itm0a39edd7df236?pid=TVSGAXEVXNG9YBUM&lid=LSTTVSGAXEVXNG9YBUMNFXTWO&marketplace=FLIPKART&q=tv&store=ckf%2Fczl&srno=s_1_7&otracker=search&fm=organic&iid=2b248e8c-6724-448d-b902-c4d6d9e69a14.TVSGAXEVXNG9YBUM.SEARCH&ppt=None&ppn=None&ssid=5omv8jcgq80000001687188913316&qH=c9a1fdac6e082dd8\n",
      "https://www.flipkart.com/haier-109-cm-43-inch-full-hd-led-smart-android-tv/p/itmf99f533aa7d0e?pid=TVSGNPGGJMZDSYZH&lid=LSTTVSGNPGGJMZDSYZHFN0ITD&marketplace=FLIPKART&q=tv&store=ckf%2Fczl&srno=s_1_8&otracker=search&fm=organic&iid=en_MCW3mkZ64BawW6PaxMjT5PyTKNJSqCezFEOR39yrW49NCFD2AUIpZJZl8t1s6PDk%2BaLJIp%2BcWeikI5CmT4DOAw%3D%3D&ppt=None&ppn=None&ssid=5omv8jcgq80000001687188913316&qH=c9a1fdac6e082dd8\n",
      "https://www.flipkart.com/iffalcon-tcl-80-04-cm-32-inch-hd-ready-led-smart-android-tv-bezel-less-design-24w-speaker/p/itm82d22461c3761?pid=TVSGKNZGHCZRNEDW&lid=LSTTVSGKNZGHCZRNEDWPKDF2X&marketplace=FLIPKART&q=tv&store=ckf%2Fczl&srno=s_1_9&otracker=search&fm=organic&iid=2b248e8c-6724-448d-b902-c4d6d9e69a14.TVSGKNZGHCZRNEDW.SEARCH&ppt=None&ppn=None&ssid=5omv8jcgq80000001687188913316&qH=c9a1fdac6e082dd8\n",
      "https://www.flipkart.com/coocaa-80-cm-32-inch-hd-ready-led-smart-coolita-tv-dolby-audio-eye-care-technology/p/itm1d67beddce98f?pid=TVSG4VHWKAP6KYP4&lid=LSTTVSG4VHWKAP6KYP4QBLASU&marketplace=FLIPKART&q=tv&store=ckf%2Fczl&srno=s_1_10&otracker=search&fm=organic&iid=2b248e8c-6724-448d-b902-c4d6d9e69a14.TVSG4VHWKAP6KYP4.SEARCH&ppt=None&ppn=None&ssid=5omv8jcgq80000001687188913316&qH=c9a1fdac6e082dd8\n",
      "https://www.flipkart.com/sens-pikaso-140-cm-55-inch-ultra-hd-4k-led-smart-android-tv-flurosens-panel-dolby-audio-dts/p/itm2c343fe2b90b1?pid=TVSGHY2BVYAS9FRS&lid=LSTTVSGHY2BVYAS9FRSB4RIY5&marketplace=FLIPKART&q=tv&store=ckf%2Fczl&srno=s_1_11&otracker=search&fm=organic&iid=en_MCW3mkZ64BawW6PaxMjT5PyTKNJSqCezFEOR39yrW48OCTgZDZ1ptUdfPNmAYFsiB9rxTtjwwUI0dnw5D67kZQ%3D%3D&ppt=None&ppn=None&ssid=5omv8jcgq80000001687188913316&qH=c9a1fdac6e082dd8\n",
      "https://www.flipkart.com/haier-140-cm-55-inch-ultra-hd-4k-led-smart-google-tv-dolby-atmos-vision/p/itm22071f4f603a0?pid=TVSGNPGKMVPQQ4QB&lid=LSTTVSGNPGKMVPQQ4QB88SK4H&marketplace=FLIPKART&q=tv&store=ckf%2Fczl&srno=s_1_12&otracker=search&fm=organic&iid=en_MCW3mkZ64BawW6PaxMjT5PyTKNJSqCezFEOR39yrW48X%2BrGsHdEv3Xmci0c%2BrrgJId27DbViyjpunwxYv%2F4k2w%3D%3D&ppt=None&ppn=None&ssid=5omv8jcgq80000001687188913316&qH=c9a1fdac6e082dd8\n",
      "https://www.flipkart.com/lg-uq7500-108-cm-43-inch-ultra-hd-4k-led-smart-webos-tv-2022/p/itm39fd5782b27ed?pid=TVSGFGYS5TJRUJNV&lid=LSTTVSGFGYS5TJRUJNVLCTYNB&marketplace=FLIPKART&q=tv&store=ckf%2Fczl&srno=s_1_13&otracker=search&fm=organic&iid=2b248e8c-6724-448d-b902-c4d6d9e69a14.TVSGFGYS5TJRUJNV.SEARCH&ppt=None&ppn=None&ssid=5omv8jcgq80000001687188913316&qH=c9a1fdac6e082dd8\n",
      "https://www.flipkart.com/infinix-x3in-80-cm-32-cm-hd-ready-led-smart-android-tv/p/itmc3e5d996d0aa3?pid=TVSGZZY4MHBSP9VD&lid=LSTTVSGZZY4MHBSP9VDVQ1L7Z&marketplace=FLIPKART&q=tv&store=ckf%2Fczl&srno=s_1_14&otracker=search&fm=organic&iid=2b248e8c-6724-448d-b902-c4d6d9e69a14.TVSGZZY4MHBSP9VD.SEARCH&ppt=None&ppn=None&ssid=5omv8jcgq80000001687188913316&qH=c9a1fdac6e082dd8\n",
      "https://www.flipkart.com/oneplus-y1s-108-cm-43-inch-full-hd-led-smart-android-tv-11-bezel-less-frame/p/itm178846d2e1567?pid=TVSGAXEVSNT3HBQA&lid=LSTTVSGAXEVSNT3HBQADHUARX&marketplace=FLIPKART&q=tv&store=ckf%2Fczl&srno=s_1_15&otracker=search&fm=organic&iid=2b248e8c-6724-448d-b902-c4d6d9e69a14.TVSGAXEVSNT3HBQA.SEARCH&ppt=None&ppn=None&ssid=5omv8jcgq80000001687188913316&qH=c9a1fdac6e082dd8\n",
      "https://www.flipkart.com/thomson-alpha-80-cm-32-inch-hd-ready-led-smart-linux-tv-30-w-sound-output-bezel-less-design/p/itm0e90bcdadb9c9?pid=TVSGEMQV7R4CMTGA&lid=LSTTVSGEMQV7R4CMTGAODWDFI&marketplace=FLIPKART&q=tv&store=ckf%2Fczl&srno=s_1_16&otracker=search&fm=organic&iid=2b248e8c-6724-448d-b902-c4d6d9e69a14.TVSGEMQV7R4CMTGA.SEARCH&ppt=None&ppn=None&ssid=5omv8jcgq80000001687188913316&qH=c9a1fdac6e082dd8\n",
      "https://www.flipkart.com/haier-127-cm-50-inch-ultra-hd-4k-led-smart-google-tv-dolby-atmos-vision/p/itm6b749d6a27bd1?pid=TVSGNPGGJCN3NPQG&lid=LSTTVSGNPGGJCN3NPQG3WOLC4&marketplace=FLIPKART&q=tv&store=ckf%2Fczl&srno=s_1_17&otracker=search&fm=organic&iid=en_MCW3mkZ64BawW6PaxMjT5PyTKNJSqCezFEOR39yrW48Ko5L6luuhmnDjYstdk5eN2GWB0xVwdX4uw9HvNE3uTw%3D%3D&ppt=None&ppn=None&ssid=5omv8jcgq80000001687188913316&qH=c9a1fdac6e082dd8\n",
      "https://www.flipkart.com/haier-165-cm-65-inch-ultra-hd-4k-led-smart-google-tv-dolby-atmos-vision/p/itmf9dc7d933b960?pid=TVSGNPGGKFSZQNVN&lid=LSTTVSGNPGGKFSZQNVNWQ2C7P&marketplace=FLIPKART&q=tv&store=ckf%2Fczl&srno=s_1_18&otracker=search&fm=organic&iid=en_MCW3mkZ64BawW6PaxMjT5PyTKNJSqCezFEOR39yrW481HwGC9XIe7YcHFCVLuNw0QY7rVmCOS7OXK4VnbgXYiQ%3D%3D&ppt=None&ppn=None&ssid=5omv8jcgq80000001687188913316&qH=c9a1fdac6e082dd8\n",
      "https://www.flipkart.com/motorola-zx2-100-cm-40-inch-full-hd-led-smart-android-tv-dolby-atmos-vision/p/itm224f48c542525?pid=TVSFSK2E5JHFPHR5&lid=LSTTVSFSK2E5JHFPHR5EYGGN1&marketplace=FLIPKART&q=tv&store=ckf%2Fczl&srno=s_1_19&otracker=search&fm=organic&iid=2b248e8c-6724-448d-b902-c4d6d9e69a14.TVSFSK2E5JHFPHR5.SEARCH&ppt=None&ppn=None&ssid=5omv8jcgq80000001687188913316&qH=c9a1fdac6e082dd8\n",
      "https://www.flipkart.com/mi-5a-100-cm-40-inch-full-hd-led-smart-android-tv-dolby-audio-2022-model/p/itm6be60be56f52d?pid=TVSGD5CS4N7NWFZD&lid=LSTTVSGD5CS4N7NWFZDCMWLRV&marketplace=FLIPKART&q=tv&store=ckf%2Fczl&srno=s_1_20&otracker=search&fm=organic&iid=2b248e8c-6724-448d-b902-c4d6d9e69a14.TVSGD5CS4N7NWFZD.SEARCH&ppt=None&ppn=None&ssid=5omv8jcgq80000001687188913316&qH=c9a1fdac6e082dd8\n",
      "https://www.flipkart.com/haier-108-cm-43-inch-ultra-hd-4k-led-smart-google-tv-dolby-atmos-vision/p/itm7868cb0b6687e?pid=TVSGNPGK28XSBXGS&lid=LSTTVSGNPGK28XSBXGS3VDRSF&marketplace=FLIPKART&q=tv&store=ckf%2Fczl&srno=s_1_21&otracker=search&fm=organic&iid=en_MCW3mkZ64BawW6PaxMjT5PyTKNJSqCezFEOR39yrW4%2FR5ppYi42Ar53q7cwzIRUmfHJMr0c3rlucV0WvzXSXAQ%3D%3D&ppt=None&ppn=None&ssid=5omv8jcgq80000001687188913316&qH=c9a1fdac6e082dd8\n",
      "https://www.flipkart.com/sens-dwinci-140-cm-55-inch-qled-ultra-hd-4k-smart-google-tv-lumisens-panel-dolby-vision-atmos/p/itm15150e4463cda?pid=TVSGKZGPVEYFFQXT&lid=LSTTVSGKZGPVEYFFQXTQWEBSA&marketplace=FLIPKART&q=tv&store=ckf%2Fczl&srno=s_1_22&otracker=search&fm=organic&iid=en_MCW3mkZ64BawW6PaxMjT5PyTKNJSqCezFEOR39yrW4%2FcPydTyzQep7ErY7%2FHG%2Fh8EnI4lKT8%2FSCW7W%2F3Dha9%2BA%3D%3D&ppt=None&ppn=None&ssid=5omv8jcgq80000001687188913316&qH=c9a1fdac6e082dd8\n",
      "https://www.flipkart.com/lg-80-cm-32-inch-hd-ready-led-smart-webos-tv-alpha5-gen5-ai-processor-ceramic-black-2022-model/p/itm8b9d3ae107cbd?pid=TVSGDQHFUJ3T7SQK&lid=LSTTVSGDQHFUJ3T7SQKUG08GH&marketplace=FLIPKART&q=tv&store=ckf%2Fczl&srno=s_1_23&otracker=search&fm=organic&iid=2b248e8c-6724-448d-b902-c4d6d9e69a14.TVSGDQHFUJ3T7SQK.SEARCH&ppt=None&ppn=None&ssid=5omv8jcgq80000001687188913316&qH=c9a1fdac6e082dd8\n",
      "https://www.flipkart.com/coocaa-109-cm-43-inch-full-hd-led-smart-coolita-tv/p/itm9eeac5e71a2c9?pid=TVSGZKHRJNGPASPS&lid=LSTTVSGZKHRJNGPASPSLPM8D1&marketplace=FLIPKART&q=tv&store=ckf%2Fczl&srno=s_1_24&otracker=search&fm=organic&iid=2b248e8c-6724-448d-b902-c4d6d9e69a14.TVSGZKHRJNGPASPS.SEARCH&ppt=None&ppn=None&ssid=5omv8jcgq80000001687188913316&qH=c9a1fdac6e082dd8\n"
     ]
    },
    {
     "ename": "AttributeError",
     "evalue": "'NoneType' object has no attribute 'a'",
     "output_type": "error",
     "traceback": [
      "\u001b[1;31m---------------------------------------------------------------------------\u001b[0m",
      "\u001b[1;31mAttributeError\u001b[0m                            Traceback (most recent call last)",
      "\u001b[1;32m~\\AppData\\Local\\Temp\\ipykernel_15572\\4167263243.py\u001b[0m in \u001b[0;36m<module>\u001b[1;34m\u001b[0m\n\u001b[0;32m      1\u001b[0m \u001b[1;32mfor\u001b[0m \u001b[0mi\u001b[0m \u001b[1;32min\u001b[0m \u001b[0mbigbox\u001b[0m\u001b[1;33m:\u001b[0m\u001b[1;33m\u001b[0m\u001b[1;33m\u001b[0m\u001b[0m\n\u001b[1;32m----> 2\u001b[1;33m     \u001b[0mprint\u001b[0m\u001b[1;33m(\u001b[0m\u001b[1;34m\"https://www.flipkart.com\"\u001b[0m \u001b[1;33m+\u001b[0m \u001b[0mi\u001b[0m\u001b[1;33m.\u001b[0m\u001b[0mdiv\u001b[0m\u001b[1;33m.\u001b[0m\u001b[0mdiv\u001b[0m\u001b[1;33m.\u001b[0m\u001b[0mdiv\u001b[0m\u001b[1;33m.\u001b[0m\u001b[0ma\u001b[0m\u001b[1;33m[\u001b[0m\u001b[1;34m'href'\u001b[0m\u001b[1;33m]\u001b[0m\u001b[1;33m)\u001b[0m\u001b[1;33m\u001b[0m\u001b[1;33m\u001b[0m\u001b[0m\n\u001b[0m\u001b[0;32m      3\u001b[0m \u001b[1;33m\u001b[0m\u001b[0m\n",
      "\u001b[1;31mAttributeError\u001b[0m: 'NoneType' object has no attribute 'a'"
     ]
    }
   ],
   "source": [
    "for i in bigbox:\n",
    "    print(\"https://www.flipkart.com\" + i.div.div.div.a['href'])\n",
    "    "
   ]
  },
  {
   "cell_type": "code",
   "execution_count": null,
   "id": "121e467f-4b56-419d-a508-7b1056454983",
   "metadata": {},
   "outputs": [],
   "source": [
    "productlink"
   ]
  },
  {
   "cell_type": "code",
   "execution_count": null,
   "id": "a40d855a-a389-4f6f-abad-3e15ff7713e4",
   "metadata": {},
   "outputs": [],
   "source": [
    "procuct_req = requests.get(productlink)"
   ]
  },
  {
   "cell_type": "code",
   "execution_count": null,
   "id": "ae33159d-186e-4f6f-b4cb-e1565f0186bf",
   "metadata": {},
   "outputs": [],
   "source": [
    "product_html = bs(procuct_req.text,'html.parser')"
   ]
  },
  {
   "cell_type": "code",
   "execution_count": null,
   "id": "32d59cba-4388-4a3f-9baa-498efed56148",
   "metadata": {},
   "outputs": [],
   "source": [
    "coment_box = product_html.find_all(\"div\",{\"class\":\"_16PBlm\"})"
   ]
  },
  {
   "cell_type": "code",
   "execution_count": null,
   "id": "424914bb-a86a-4f8b-862f-e6faf0ab1019",
   "metadata": {},
   "outputs": [],
   "source": [
    "len(coment_box)"
   ]
  },
  {
   "cell_type": "code",
   "execution_count": null,
   "id": "adfa3e5f-48c6-46f7-9f38-ac7b2675d949",
   "metadata": {},
   "outputs": [],
   "source": [
    "coment_box[0].div.div.find_all(\"p\",{\"class\":\"_2sc7ZR _2V5EHH\"})[0].text"
   ]
  },
  {
   "cell_type": "code",
   "execution_count": null,
   "id": "b8539076-6191-47f1-b3fa-527967bf304a",
   "metadata": {},
   "outputs": [],
   "source": [
    "for i in coment_box:\n",
    "    print(i.div.div.find_all(\"p\",{\"class\":\"_2sc7ZR _2V5EHH\"})[0].text)"
   ]
  },
  {
   "cell_type": "code",
   "execution_count": null,
   "id": "7d42338a-9d11-448a-866f-3d098090fee4",
   "metadata": {},
   "outputs": [],
   "source": [
    "for i in coment_box:\n",
    "    print(i.div.div.div.div.text)"
   ]
  },
  {
   "cell_type": "code",
   "execution_count": null,
   "id": "d605e39b-1e78-410f-a81f-c398acd9a9ef",
   "metadata": {},
   "outputs": [],
   "source": [
    "coment_box[0].div.div.div.p.text\n"
   ]
  },
  {
   "cell_type": "code",
   "execution_count": null,
   "id": "97181efc-5bd5-4998-ab35-7512f82af7ae",
   "metadata": {},
   "outputs": [],
   "source": [
    "for i in coment_box:\n",
    "    print(i.div.div.div.p.text )"
   ]
  },
  {
   "cell_type": "code",
   "execution_count": null,
   "id": "7e899af2-c04e-4c9e-952b-c319d77f84fc",
   "metadata": {},
   "outputs": [],
   "source": [
    "coment_box[0].div.div.find_all(\"div\",{\"class\":\"\"})[0].text\n"
   ]
  },
  {
   "cell_type": "code",
   "execution_count": null,
   "id": "737a2b0d-4508-4f1d-922e-51c6297f0718",
   "metadata": {},
   "outputs": [],
   "source": [
    "for i in coment_box:\n",
    "    print(i.div.div.find_all(\"div\",{\"class\":\"\"})[0].text)"
   ]
  },
  {
   "cell_type": "code",
   "execution_count": null,
   "id": "920ea651-6489-4e32-8900-e3e4b3c05794",
   "metadata": {},
   "outputs": [],
   "source": []
  }
 ],
 "metadata": {
  "kernelspec": {
   "display_name": "Python 3 (ipykernel)",
   "language": "python",
   "name": "python3"
  },
  "language_info": {
   "codemirror_mode": {
    "name": "ipython",
    "version": 3
   },
   "file_extension": ".py",
   "mimetype": "text/x-python",
   "name": "python",
   "nbconvert_exporter": "python",
   "pygments_lexer": "ipython3",
   "version": "3.9.13"
  }
 },
 "nbformat": 4,
 "nbformat_minor": 5
}
