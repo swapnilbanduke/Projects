{
  "cells": [
    {
      "cell_type": "markdown",
      "id": "e00b5383-b915-4a16-8ed0-476f979052b7",
      "metadata": {
        "id": "e00b5383-b915-4a16-8ed0-476f979052b7"
      },
      "source": [
        "## Data Cleaning\n",
        "\n",
        "Now since we have extracted data from the website, it is not cleaned and ready to be analyzed yet. The reviews section will need to be cleaned for punctuations, spellings and other characters."
      ]
    },
    {
      "cell_type": "code",
      "execution_count": 1,
      "id": "69c14a0d-d637-4b7e-8714-31fb531b4954",
      "metadata": {
        "id": "69c14a0d-d637-4b7e-8714-31fb531b4954"
      },
      "outputs": [],
      "source": [
        "#imports\n",
        "\n",
        "import pandas as pd\n",
        "import matplotlib.pyplot as plt\n",
        "import seaborn as sns\n",
        "import os\n",
        "\n",
        "#regex\n",
        "import re"
      ]
    },
    {
      "cell_type": "code",
      "execution_count": 3,
      "id": "c46b06dc-b9f5-4b9f-b52b-7f9b01ff7200",
      "metadata": {
        "id": "c46b06dc-b9f5-4b9f-b52b-7f9b01ff7200"
      },
      "outputs": [],
      "source": [
        "#create a dataframe from csv file\n",
        "\n",
        "cwd = os.getcwd()\n",
        "\n",
        "df = pd.read_csv(cwd+\"/BA_reviews (1).csv\", index_col=0)"
      ]
    },
    {
      "cell_type": "code",
      "execution_count": 4,
      "id": "888d1113-bafd-4e6c-a020-c0e7b721ce50",
      "metadata": {
        "colab": {
          "base_uri": "https://localhost:8080/",
          "height": 206
        },
        "id": "888d1113-bafd-4e6c-a020-c0e7b721ce50",
        "outputId": "c709d706-0e81-4d27-df7a-e90e6e4f3ece"
      },
      "outputs": [
        {
          "output_type": "execute_result",
          "data": {
            "text/plain": [
              "                                             reviews  \\\n",
              "0  ✅ Trip Verified | Absolutely PATHETIC business...   \n",
              "1  Not Verified |  Overall not bad. Staff look ti...   \n",
              "2  ✅ Trip Verified | This was our first flight wi...   \n",
              "3  ✅ Trip Verified | I recently encountered a hig...   \n",
              "4  Not Verified |  Beware! BA don't provide any r...   \n",
              "\n",
              "                           stars                date        country  \n",
              "0  \\n\\t\\t\\t\\t\\t\\t\\t\\t\\t\\t\\t\\t\\t5  23rd December 2023  United States  \n",
              "1                              3  21st December 2023         Canada  \n",
              "2                              6  21st December 2023      Australia  \n",
              "3                             10  21st December 2023  United States  \n",
              "4                              1  20th December 2023  United States  "
            ],
            "text/html": [
              "\n",
              "  <div id=\"df-1ffdcc52-ef1a-4162-bdc2-4245c9d58c6b\" class=\"colab-df-container\">\n",
              "    <div>\n",
              "<style scoped>\n",
              "    .dataframe tbody tr th:only-of-type {\n",
              "        vertical-align: middle;\n",
              "    }\n",
              "\n",
              "    .dataframe tbody tr th {\n",
              "        vertical-align: top;\n",
              "    }\n",
              "\n",
              "    .dataframe thead th {\n",
              "        text-align: right;\n",
              "    }\n",
              "</style>\n",
              "<table border=\"1\" class=\"dataframe\">\n",
              "  <thead>\n",
              "    <tr style=\"text-align: right;\">\n",
              "      <th></th>\n",
              "      <th>reviews</th>\n",
              "      <th>stars</th>\n",
              "      <th>date</th>\n",
              "      <th>country</th>\n",
              "    </tr>\n",
              "  </thead>\n",
              "  <tbody>\n",
              "    <tr>\n",
              "      <th>0</th>\n",
              "      <td>✅ Trip Verified | Absolutely PATHETIC business...</td>\n",
              "      <td>\\n\\t\\t\\t\\t\\t\\t\\t\\t\\t\\t\\t\\t\\t5</td>\n",
              "      <td>23rd December 2023</td>\n",
              "      <td>United States</td>\n",
              "    </tr>\n",
              "    <tr>\n",
              "      <th>1</th>\n",
              "      <td>Not Verified |  Overall not bad. Staff look ti...</td>\n",
              "      <td>3</td>\n",
              "      <td>21st December 2023</td>\n",
              "      <td>Canada</td>\n",
              "    </tr>\n",
              "    <tr>\n",
              "      <th>2</th>\n",
              "      <td>✅ Trip Verified | This was our first flight wi...</td>\n",
              "      <td>6</td>\n",
              "      <td>21st December 2023</td>\n",
              "      <td>Australia</td>\n",
              "    </tr>\n",
              "    <tr>\n",
              "      <th>3</th>\n",
              "      <td>✅ Trip Verified | I recently encountered a hig...</td>\n",
              "      <td>10</td>\n",
              "      <td>21st December 2023</td>\n",
              "      <td>United States</td>\n",
              "    </tr>\n",
              "    <tr>\n",
              "      <th>4</th>\n",
              "      <td>Not Verified |  Beware! BA don't provide any r...</td>\n",
              "      <td>1</td>\n",
              "      <td>20th December 2023</td>\n",
              "      <td>United States</td>\n",
              "    </tr>\n",
              "  </tbody>\n",
              "</table>\n",
              "</div>\n",
              "    <div class=\"colab-df-buttons\">\n",
              "\n",
              "  <div class=\"colab-df-container\">\n",
              "    <button class=\"colab-df-convert\" onclick=\"convertToInteractive('df-1ffdcc52-ef1a-4162-bdc2-4245c9d58c6b')\"\n",
              "            title=\"Convert this dataframe to an interactive table.\"\n",
              "            style=\"display:none;\">\n",
              "\n",
              "  <svg xmlns=\"http://www.w3.org/2000/svg\" height=\"24px\" viewBox=\"0 -960 960 960\">\n",
              "    <path d=\"M120-120v-720h720v720H120Zm60-500h600v-160H180v160Zm220 220h160v-160H400v160Zm0 220h160v-160H400v160ZM180-400h160v-160H180v160Zm440 0h160v-160H620v160ZM180-180h160v-160H180v160Zm440 0h160v-160H620v160Z\"/>\n",
              "  </svg>\n",
              "    </button>\n",
              "\n",
              "  <style>\n",
              "    .colab-df-container {\n",
              "      display:flex;\n",
              "      gap: 12px;\n",
              "    }\n",
              "\n",
              "    .colab-df-convert {\n",
              "      background-color: #E8F0FE;\n",
              "      border: none;\n",
              "      border-radius: 50%;\n",
              "      cursor: pointer;\n",
              "      display: none;\n",
              "      fill: #1967D2;\n",
              "      height: 32px;\n",
              "      padding: 0 0 0 0;\n",
              "      width: 32px;\n",
              "    }\n",
              "\n",
              "    .colab-df-convert:hover {\n",
              "      background-color: #E2EBFA;\n",
              "      box-shadow: 0px 1px 2px rgba(60, 64, 67, 0.3), 0px 1px 3px 1px rgba(60, 64, 67, 0.15);\n",
              "      fill: #174EA6;\n",
              "    }\n",
              "\n",
              "    .colab-df-buttons div {\n",
              "      margin-bottom: 4px;\n",
              "    }\n",
              "\n",
              "    [theme=dark] .colab-df-convert {\n",
              "      background-color: #3B4455;\n",
              "      fill: #D2E3FC;\n",
              "    }\n",
              "\n",
              "    [theme=dark] .colab-df-convert:hover {\n",
              "      background-color: #434B5C;\n",
              "      box-shadow: 0px 1px 3px 1px rgba(0, 0, 0, 0.15);\n",
              "      filter: drop-shadow(0px 1px 2px rgba(0, 0, 0, 0.3));\n",
              "      fill: #FFFFFF;\n",
              "    }\n",
              "  </style>\n",
              "\n",
              "    <script>\n",
              "      const buttonEl =\n",
              "        document.querySelector('#df-1ffdcc52-ef1a-4162-bdc2-4245c9d58c6b button.colab-df-convert');\n",
              "      buttonEl.style.display =\n",
              "        google.colab.kernel.accessAllowed ? 'block' : 'none';\n",
              "\n",
              "      async function convertToInteractive(key) {\n",
              "        const element = document.querySelector('#df-1ffdcc52-ef1a-4162-bdc2-4245c9d58c6b');\n",
              "        const dataTable =\n",
              "          await google.colab.kernel.invokeFunction('convertToInteractive',\n",
              "                                                    [key], {});\n",
              "        if (!dataTable) return;\n",
              "\n",
              "        const docLinkHtml = 'Like what you see? Visit the ' +\n",
              "          '<a target=\"_blank\" href=https://colab.research.google.com/notebooks/data_table.ipynb>data table notebook</a>'\n",
              "          + ' to learn more about interactive tables.';\n",
              "        element.innerHTML = '';\n",
              "        dataTable['output_type'] = 'display_data';\n",
              "        await google.colab.output.renderOutput(dataTable, element);\n",
              "        const docLink = document.createElement('div');\n",
              "        docLink.innerHTML = docLinkHtml;\n",
              "        element.appendChild(docLink);\n",
              "      }\n",
              "    </script>\n",
              "  </div>\n",
              "\n",
              "\n",
              "<div id=\"df-4a8d7bd3-bd9f-491d-8e20-8ee958bd61ea\">\n",
              "  <button class=\"colab-df-quickchart\" onclick=\"quickchart('df-4a8d7bd3-bd9f-491d-8e20-8ee958bd61ea')\"\n",
              "            title=\"Suggest charts\"\n",
              "            style=\"display:none;\">\n",
              "\n",
              "<svg xmlns=\"http://www.w3.org/2000/svg\" height=\"24px\"viewBox=\"0 0 24 24\"\n",
              "     width=\"24px\">\n",
              "    <g>\n",
              "        <path d=\"M19 3H5c-1.1 0-2 .9-2 2v14c0 1.1.9 2 2 2h14c1.1 0 2-.9 2-2V5c0-1.1-.9-2-2-2zM9 17H7v-7h2v7zm4 0h-2V7h2v10zm4 0h-2v-4h2v4z\"/>\n",
              "    </g>\n",
              "</svg>\n",
              "  </button>\n",
              "\n",
              "<style>\n",
              "  .colab-df-quickchart {\n",
              "      --bg-color: #E8F0FE;\n",
              "      --fill-color: #1967D2;\n",
              "      --hover-bg-color: #E2EBFA;\n",
              "      --hover-fill-color: #174EA6;\n",
              "      --disabled-fill-color: #AAA;\n",
              "      --disabled-bg-color: #DDD;\n",
              "  }\n",
              "\n",
              "  [theme=dark] .colab-df-quickchart {\n",
              "      --bg-color: #3B4455;\n",
              "      --fill-color: #D2E3FC;\n",
              "      --hover-bg-color: #434B5C;\n",
              "      --hover-fill-color: #FFFFFF;\n",
              "      --disabled-bg-color: #3B4455;\n",
              "      --disabled-fill-color: #666;\n",
              "  }\n",
              "\n",
              "  .colab-df-quickchart {\n",
              "    background-color: var(--bg-color);\n",
              "    border: none;\n",
              "    border-radius: 50%;\n",
              "    cursor: pointer;\n",
              "    display: none;\n",
              "    fill: var(--fill-color);\n",
              "    height: 32px;\n",
              "    padding: 0;\n",
              "    width: 32px;\n",
              "  }\n",
              "\n",
              "  .colab-df-quickchart:hover {\n",
              "    background-color: var(--hover-bg-color);\n",
              "    box-shadow: 0 1px 2px rgba(60, 64, 67, 0.3), 0 1px 3px 1px rgba(60, 64, 67, 0.15);\n",
              "    fill: var(--button-hover-fill-color);\n",
              "  }\n",
              "\n",
              "  .colab-df-quickchart-complete:disabled,\n",
              "  .colab-df-quickchart-complete:disabled:hover {\n",
              "    background-color: var(--disabled-bg-color);\n",
              "    fill: var(--disabled-fill-color);\n",
              "    box-shadow: none;\n",
              "  }\n",
              "\n",
              "  .colab-df-spinner {\n",
              "    border: 2px solid var(--fill-color);\n",
              "    border-color: transparent;\n",
              "    border-bottom-color: var(--fill-color);\n",
              "    animation:\n",
              "      spin 1s steps(1) infinite;\n",
              "  }\n",
              "\n",
              "  @keyframes spin {\n",
              "    0% {\n",
              "      border-color: transparent;\n",
              "      border-bottom-color: var(--fill-color);\n",
              "      border-left-color: var(--fill-color);\n",
              "    }\n",
              "    20% {\n",
              "      border-color: transparent;\n",
              "      border-left-color: var(--fill-color);\n",
              "      border-top-color: var(--fill-color);\n",
              "    }\n",
              "    30% {\n",
              "      border-color: transparent;\n",
              "      border-left-color: var(--fill-color);\n",
              "      border-top-color: var(--fill-color);\n",
              "      border-right-color: var(--fill-color);\n",
              "    }\n",
              "    40% {\n",
              "      border-color: transparent;\n",
              "      border-right-color: var(--fill-color);\n",
              "      border-top-color: var(--fill-color);\n",
              "    }\n",
              "    60% {\n",
              "      border-color: transparent;\n",
              "      border-right-color: var(--fill-color);\n",
              "    }\n",
              "    80% {\n",
              "      border-color: transparent;\n",
              "      border-right-color: var(--fill-color);\n",
              "      border-bottom-color: var(--fill-color);\n",
              "    }\n",
              "    90% {\n",
              "      border-color: transparent;\n",
              "      border-bottom-color: var(--fill-color);\n",
              "    }\n",
              "  }\n",
              "</style>\n",
              "\n",
              "  <script>\n",
              "    async function quickchart(key) {\n",
              "      const quickchartButtonEl =\n",
              "        document.querySelector('#' + key + ' button');\n",
              "      quickchartButtonEl.disabled = true;  // To prevent multiple clicks.\n",
              "      quickchartButtonEl.classList.add('colab-df-spinner');\n",
              "      try {\n",
              "        const charts = await google.colab.kernel.invokeFunction(\n",
              "            'suggestCharts', [key], {});\n",
              "      } catch (error) {\n",
              "        console.error('Error during call to suggestCharts:', error);\n",
              "      }\n",
              "      quickchartButtonEl.classList.remove('colab-df-spinner');\n",
              "      quickchartButtonEl.classList.add('colab-df-quickchart-complete');\n",
              "    }\n",
              "    (() => {\n",
              "      let quickchartButtonEl =\n",
              "        document.querySelector('#df-4a8d7bd3-bd9f-491d-8e20-8ee958bd61ea button');\n",
              "      quickchartButtonEl.style.display =\n",
              "        google.colab.kernel.accessAllowed ? 'block' : 'none';\n",
              "    })();\n",
              "  </script>\n",
              "</div>\n",
              "\n",
              "    </div>\n",
              "  </div>\n"
            ]
          },
          "metadata": {},
          "execution_count": 4
        }
      ],
      "source": [
        "df.head()"
      ]
    },
    {
      "cell_type": "markdown",
      "id": "7aeb0b06-23f8-48bb-b2d4-b91455040038",
      "metadata": {
        "id": "7aeb0b06-23f8-48bb-b2d4-b91455040038"
      },
      "source": [
        "We will also create a column which mentions if the user is verified or not."
      ]
    },
    {
      "cell_type": "code",
      "execution_count": 5,
      "id": "45908798-e042-4d71-8e01-395f53f2005d",
      "metadata": {
        "id": "45908798-e042-4d71-8e01-395f53f2005d"
      },
      "outputs": [],
      "source": [
        "df['verified'] = df.reviews.str.contains(\"Trip Verified\")"
      ]
    },
    {
      "cell_type": "code",
      "execution_count": 6,
      "id": "ae4e6e23-4ecc-4c94-8526-5f645ff2f6a2",
      "metadata": {
        "colab": {
          "base_uri": "https://localhost:8080/"
        },
        "id": "ae4e6e23-4ecc-4c94-8526-5f645ff2f6a2",
        "outputId": "573b5aea-150f-411d-c558-ef474e71f394"
      },
      "outputs": [
        {
          "output_type": "execute_result",
          "data": {
            "text/plain": [
              "0        True\n",
              "1       False\n",
              "2        True\n",
              "3        True\n",
              "4       False\n",
              "        ...  \n",
              "3716    False\n",
              "3717    False\n",
              "3718    False\n",
              "3719    False\n",
              "3720    False\n",
              "Name: verified, Length: 3721, dtype: bool"
            ]
          },
          "metadata": {},
          "execution_count": 6
        }
      ],
      "source": [
        "df['verified']"
      ]
    },
    {
      "cell_type": "markdown",
      "id": "cf266fe0-0c33-477a-9f1e-529a214e91c5",
      "metadata": {
        "id": "cf266fe0-0c33-477a-9f1e-529a214e91c5"
      },
      "source": [
        "### Cleaning Reviews"
      ]
    },
    {
      "cell_type": "markdown",
      "id": "ac2bc6a6-8783-4873-b5e7-1719f997cdf2",
      "metadata": {
        "id": "ac2bc6a6-8783-4873-b5e7-1719f997cdf2"
      },
      "source": [
        "We will extract the column of reviews into a separate dataframe and clean it for semantic analysis"
      ]
    },
    {
      "cell_type": "code",
      "execution_count": 11,
      "id": "e4319089-b957-4b60-8f07-fc8cd3487f9e",
      "metadata": {
        "colab": {
          "base_uri": "https://localhost:8080/"
        },
        "id": "e4319089-b957-4b60-8f07-fc8cd3487f9e",
        "outputId": "a80c53c4-2b77-48cf-a0eb-e259c720cd97"
      },
      "outputs": [
        {
          "output_type": "stream",
          "name": "stderr",
          "text": [
            "[nltk_data] Downloading package stopwords to /root/nltk_data...\n",
            "[nltk_data]   Package stopwords is already up-to-date!\n",
            "[nltk_data] Downloading package wordnet to /root/nltk_data...\n"
          ]
        }
      ],
      "source": [
        "#for lemmatization of words we will use nltk library\n",
        "import nltk\n",
        "nltk.download('stopwords')\n",
        "nltk.download('wordnet')\n",
        "\n",
        "\n",
        "from nltk.stem import WordNetLemmatizer\n",
        "from nltk.corpus import stopwords\n",
        "lemma = WordNetLemmatizer()\n",
        "\n",
        "\n",
        "reviews_data = df.reviews.str.strip(\"✅ Trip Verified |\")\n",
        "\n",
        "#create an empty list to collect cleaned data corpus\n",
        "corpus =[]\n",
        "\n",
        "#loop through each review, remove punctuations, small case it, join it and add it to corpus\n",
        "for rev in reviews_data:\n",
        "    rev = re.sub('[^a-zA-Z]',' ', rev)\n",
        "    rev = rev.lower()\n",
        "    rev = rev.split()\n",
        "    rev = [lemma.lemmatize(word) for word in rev if word not in set(stopwords.words(\"english\"))]\n",
        "    rev = \" \".join(rev)\n",
        "    corpus.append(rev)"
      ]
    },
    {
      "cell_type": "code",
      "execution_count": 12,
      "id": "835b9930-20e0-4d79-8a88-a5737309b4ce",
      "metadata": {
        "id": "835b9930-20e0-4d79-8a88-a5737309b4ce"
      },
      "outputs": [],
      "source": [
        "# add the corpus to the original dataframe\n",
        "\n",
        "df['corpus'] = corpus"
      ]
    },
    {
      "cell_type": "code",
      "execution_count": 13,
      "id": "baa16beb-4ac5-4850-a46a-0ae11d64cf3d",
      "metadata": {
        "colab": {
          "base_uri": "https://localhost:8080/",
          "height": 293
        },
        "id": "baa16beb-4ac5-4850-a46a-0ae11d64cf3d",
        "outputId": "63459a75-f172-42e6-fa35-c2ac397d1a60"
      },
      "outputs": [
        {
          "output_type": "execute_result",
          "data": {
            "text/plain": [
              "                                             reviews  \\\n",
              "0  ✅ Trip Verified | Absolutely PATHETIC business...   \n",
              "1  Not Verified |  Overall not bad. Staff look ti...   \n",
              "2  ✅ Trip Verified | This was our first flight wi...   \n",
              "3  ✅ Trip Verified | I recently encountered a hig...   \n",
              "4  Not Verified |  Beware! BA don't provide any r...   \n",
              "\n",
              "                           stars                date        country  verified  \\\n",
              "0  \\n\\t\\t\\t\\t\\t\\t\\t\\t\\t\\t\\t\\t\\t5  23rd December 2023  United States      True   \n",
              "1                              3  21st December 2023         Canada     False   \n",
              "2                              6  21st December 2023      Australia      True   \n",
              "3                             10  21st December 2023  United States      True   \n",
              "4                              1  20th December 2023  United States     False   \n",
              "\n",
              "                                              corpus  \n",
              "0  absolutely pathetic business class product ba ...  \n",
              "1  verified overall bad staff look tired overwork...  \n",
              "2  first flight british airway year usual fault c...  \n",
              "3  recently encountered highly disappointing expe...  \n",
              "4  verified beware ba provide refund due serious ...  "
            ],
            "text/html": [
              "\n",
              "  <div id=\"df-95f6d290-5646-4d49-90a6-67c9e2cb38d1\" class=\"colab-df-container\">\n",
              "    <div>\n",
              "<style scoped>\n",
              "    .dataframe tbody tr th:only-of-type {\n",
              "        vertical-align: middle;\n",
              "    }\n",
              "\n",
              "    .dataframe tbody tr th {\n",
              "        vertical-align: top;\n",
              "    }\n",
              "\n",
              "    .dataframe thead th {\n",
              "        text-align: right;\n",
              "    }\n",
              "</style>\n",
              "<table border=\"1\" class=\"dataframe\">\n",
              "  <thead>\n",
              "    <tr style=\"text-align: right;\">\n",
              "      <th></th>\n",
              "      <th>reviews</th>\n",
              "      <th>stars</th>\n",
              "      <th>date</th>\n",
              "      <th>country</th>\n",
              "      <th>verified</th>\n",
              "      <th>corpus</th>\n",
              "    </tr>\n",
              "  </thead>\n",
              "  <tbody>\n",
              "    <tr>\n",
              "      <th>0</th>\n",
              "      <td>✅ Trip Verified | Absolutely PATHETIC business...</td>\n",
              "      <td>\\n\\t\\t\\t\\t\\t\\t\\t\\t\\t\\t\\t\\t\\t5</td>\n",
              "      <td>23rd December 2023</td>\n",
              "      <td>United States</td>\n",
              "      <td>True</td>\n",
              "      <td>absolutely pathetic business class product ba ...</td>\n",
              "    </tr>\n",
              "    <tr>\n",
              "      <th>1</th>\n",
              "      <td>Not Verified |  Overall not bad. Staff look ti...</td>\n",
              "      <td>3</td>\n",
              "      <td>21st December 2023</td>\n",
              "      <td>Canada</td>\n",
              "      <td>False</td>\n",
              "      <td>verified overall bad staff look tired overwork...</td>\n",
              "    </tr>\n",
              "    <tr>\n",
              "      <th>2</th>\n",
              "      <td>✅ Trip Verified | This was our first flight wi...</td>\n",
              "      <td>6</td>\n",
              "      <td>21st December 2023</td>\n",
              "      <td>Australia</td>\n",
              "      <td>True</td>\n",
              "      <td>first flight british airway year usual fault c...</td>\n",
              "    </tr>\n",
              "    <tr>\n",
              "      <th>3</th>\n",
              "      <td>✅ Trip Verified | I recently encountered a hig...</td>\n",
              "      <td>10</td>\n",
              "      <td>21st December 2023</td>\n",
              "      <td>United States</td>\n",
              "      <td>True</td>\n",
              "      <td>recently encountered highly disappointing expe...</td>\n",
              "    </tr>\n",
              "    <tr>\n",
              "      <th>4</th>\n",
              "      <td>Not Verified |  Beware! BA don't provide any r...</td>\n",
              "      <td>1</td>\n",
              "      <td>20th December 2023</td>\n",
              "      <td>United States</td>\n",
              "      <td>False</td>\n",
              "      <td>verified beware ba provide refund due serious ...</td>\n",
              "    </tr>\n",
              "  </tbody>\n",
              "</table>\n",
              "</div>\n",
              "    <div class=\"colab-df-buttons\">\n",
              "\n",
              "  <div class=\"colab-df-container\">\n",
              "    <button class=\"colab-df-convert\" onclick=\"convertToInteractive('df-95f6d290-5646-4d49-90a6-67c9e2cb38d1')\"\n",
              "            title=\"Convert this dataframe to an interactive table.\"\n",
              "            style=\"display:none;\">\n",
              "\n",
              "  <svg xmlns=\"http://www.w3.org/2000/svg\" height=\"24px\" viewBox=\"0 -960 960 960\">\n",
              "    <path d=\"M120-120v-720h720v720H120Zm60-500h600v-160H180v160Zm220 220h160v-160H400v160Zm0 220h160v-160H400v160ZM180-400h160v-160H180v160Zm440 0h160v-160H620v160ZM180-180h160v-160H180v160Zm440 0h160v-160H620v160Z\"/>\n",
              "  </svg>\n",
              "    </button>\n",
              "\n",
              "  <style>\n",
              "    .colab-df-container {\n",
              "      display:flex;\n",
              "      gap: 12px;\n",
              "    }\n",
              "\n",
              "    .colab-df-convert {\n",
              "      background-color: #E8F0FE;\n",
              "      border: none;\n",
              "      border-radius: 50%;\n",
              "      cursor: pointer;\n",
              "      display: none;\n",
              "      fill: #1967D2;\n",
              "      height: 32px;\n",
              "      padding: 0 0 0 0;\n",
              "      width: 32px;\n",
              "    }\n",
              "\n",
              "    .colab-df-convert:hover {\n",
              "      background-color: #E2EBFA;\n",
              "      box-shadow: 0px 1px 2px rgba(60, 64, 67, 0.3), 0px 1px 3px 1px rgba(60, 64, 67, 0.15);\n",
              "      fill: #174EA6;\n",
              "    }\n",
              "\n",
              "    .colab-df-buttons div {\n",
              "      margin-bottom: 4px;\n",
              "    }\n",
              "\n",
              "    [theme=dark] .colab-df-convert {\n",
              "      background-color: #3B4455;\n",
              "      fill: #D2E3FC;\n",
              "    }\n",
              "\n",
              "    [theme=dark] .colab-df-convert:hover {\n",
              "      background-color: #434B5C;\n",
              "      box-shadow: 0px 1px 3px 1px rgba(0, 0, 0, 0.15);\n",
              "      filter: drop-shadow(0px 1px 2px rgba(0, 0, 0, 0.3));\n",
              "      fill: #FFFFFF;\n",
              "    }\n",
              "  </style>\n",
              "\n",
              "    <script>\n",
              "      const buttonEl =\n",
              "        document.querySelector('#df-95f6d290-5646-4d49-90a6-67c9e2cb38d1 button.colab-df-convert');\n",
              "      buttonEl.style.display =\n",
              "        google.colab.kernel.accessAllowed ? 'block' : 'none';\n",
              "\n",
              "      async function convertToInteractive(key) {\n",
              "        const element = document.querySelector('#df-95f6d290-5646-4d49-90a6-67c9e2cb38d1');\n",
              "        const dataTable =\n",
              "          await google.colab.kernel.invokeFunction('convertToInteractive',\n",
              "                                                    [key], {});\n",
              "        if (!dataTable) return;\n",
              "\n",
              "        const docLinkHtml = 'Like what you see? Visit the ' +\n",
              "          '<a target=\"_blank\" href=https://colab.research.google.com/notebooks/data_table.ipynb>data table notebook</a>'\n",
              "          + ' to learn more about interactive tables.';\n",
              "        element.innerHTML = '';\n",
              "        dataTable['output_type'] = 'display_data';\n",
              "        await google.colab.output.renderOutput(dataTable, element);\n",
              "        const docLink = document.createElement('div');\n",
              "        docLink.innerHTML = docLinkHtml;\n",
              "        element.appendChild(docLink);\n",
              "      }\n",
              "    </script>\n",
              "  </div>\n",
              "\n",
              "\n",
              "<div id=\"df-c71912e6-e074-4fa2-9dd8-cf5385813154\">\n",
              "  <button class=\"colab-df-quickchart\" onclick=\"quickchart('df-c71912e6-e074-4fa2-9dd8-cf5385813154')\"\n",
              "            title=\"Suggest charts\"\n",
              "            style=\"display:none;\">\n",
              "\n",
              "<svg xmlns=\"http://www.w3.org/2000/svg\" height=\"24px\"viewBox=\"0 0 24 24\"\n",
              "     width=\"24px\">\n",
              "    <g>\n",
              "        <path d=\"M19 3H5c-1.1 0-2 .9-2 2v14c0 1.1.9 2 2 2h14c1.1 0 2-.9 2-2V5c0-1.1-.9-2-2-2zM9 17H7v-7h2v7zm4 0h-2V7h2v10zm4 0h-2v-4h2v4z\"/>\n",
              "    </g>\n",
              "</svg>\n",
              "  </button>\n",
              "\n",
              "<style>\n",
              "  .colab-df-quickchart {\n",
              "      --bg-color: #E8F0FE;\n",
              "      --fill-color: #1967D2;\n",
              "      --hover-bg-color: #E2EBFA;\n",
              "      --hover-fill-color: #174EA6;\n",
              "      --disabled-fill-color: #AAA;\n",
              "      --disabled-bg-color: #DDD;\n",
              "  }\n",
              "\n",
              "  [theme=dark] .colab-df-quickchart {\n",
              "      --bg-color: #3B4455;\n",
              "      --fill-color: #D2E3FC;\n",
              "      --hover-bg-color: #434B5C;\n",
              "      --hover-fill-color: #FFFFFF;\n",
              "      --disabled-bg-color: #3B4455;\n",
              "      --disabled-fill-color: #666;\n",
              "  }\n",
              "\n",
              "  .colab-df-quickchart {\n",
              "    background-color: var(--bg-color);\n",
              "    border: none;\n",
              "    border-radius: 50%;\n",
              "    cursor: pointer;\n",
              "    display: none;\n",
              "    fill: var(--fill-color);\n",
              "    height: 32px;\n",
              "    padding: 0;\n",
              "    width: 32px;\n",
              "  }\n",
              "\n",
              "  .colab-df-quickchart:hover {\n",
              "    background-color: var(--hover-bg-color);\n",
              "    box-shadow: 0 1px 2px rgba(60, 64, 67, 0.3), 0 1px 3px 1px rgba(60, 64, 67, 0.15);\n",
              "    fill: var(--button-hover-fill-color);\n",
              "  }\n",
              "\n",
              "  .colab-df-quickchart-complete:disabled,\n",
              "  .colab-df-quickchart-complete:disabled:hover {\n",
              "    background-color: var(--disabled-bg-color);\n",
              "    fill: var(--disabled-fill-color);\n",
              "    box-shadow: none;\n",
              "  }\n",
              "\n",
              "  .colab-df-spinner {\n",
              "    border: 2px solid var(--fill-color);\n",
              "    border-color: transparent;\n",
              "    border-bottom-color: var(--fill-color);\n",
              "    animation:\n",
              "      spin 1s steps(1) infinite;\n",
              "  }\n",
              "\n",
              "  @keyframes spin {\n",
              "    0% {\n",
              "      border-color: transparent;\n",
              "      border-bottom-color: var(--fill-color);\n",
              "      border-left-color: var(--fill-color);\n",
              "    }\n",
              "    20% {\n",
              "      border-color: transparent;\n",
              "      border-left-color: var(--fill-color);\n",
              "      border-top-color: var(--fill-color);\n",
              "    }\n",
              "    30% {\n",
              "      border-color: transparent;\n",
              "      border-left-color: var(--fill-color);\n",
              "      border-top-color: var(--fill-color);\n",
              "      border-right-color: var(--fill-color);\n",
              "    }\n",
              "    40% {\n",
              "      border-color: transparent;\n",
              "      border-right-color: var(--fill-color);\n",
              "      border-top-color: var(--fill-color);\n",
              "    }\n",
              "    60% {\n",
              "      border-color: transparent;\n",
              "      border-right-color: var(--fill-color);\n",
              "    }\n",
              "    80% {\n",
              "      border-color: transparent;\n",
              "      border-right-color: var(--fill-color);\n",
              "      border-bottom-color: var(--fill-color);\n",
              "    }\n",
              "    90% {\n",
              "      border-color: transparent;\n",
              "      border-bottom-color: var(--fill-color);\n",
              "    }\n",
              "  }\n",
              "</style>\n",
              "\n",
              "  <script>\n",
              "    async function quickchart(key) {\n",
              "      const quickchartButtonEl =\n",
              "        document.querySelector('#' + key + ' button');\n",
              "      quickchartButtonEl.disabled = true;  // To prevent multiple clicks.\n",
              "      quickchartButtonEl.classList.add('colab-df-spinner');\n",
              "      try {\n",
              "        const charts = await google.colab.kernel.invokeFunction(\n",
              "            'suggestCharts', [key], {});\n",
              "      } catch (error) {\n",
              "        console.error('Error during call to suggestCharts:', error);\n",
              "      }\n",
              "      quickchartButtonEl.classList.remove('colab-df-spinner');\n",
              "      quickchartButtonEl.classList.add('colab-df-quickchart-complete');\n",
              "    }\n",
              "    (() => {\n",
              "      let quickchartButtonEl =\n",
              "        document.querySelector('#df-c71912e6-e074-4fa2-9dd8-cf5385813154 button');\n",
              "      quickchartButtonEl.style.display =\n",
              "        google.colab.kernel.accessAllowed ? 'block' : 'none';\n",
              "    })();\n",
              "  </script>\n",
              "</div>\n",
              "\n",
              "    </div>\n",
              "  </div>\n"
            ]
          },
          "metadata": {},
          "execution_count": 13
        }
      ],
      "source": [
        "df.head()"
      ]
    },
    {
      "cell_type": "markdown",
      "id": "63424d81-bab2-4e74-aa97-6094bd035940",
      "metadata": {
        "id": "63424d81-bab2-4e74-aa97-6094bd035940"
      },
      "source": [
        "### Cleaning/Fromat date"
      ]
    },
    {
      "cell_type": "code",
      "execution_count": 14,
      "id": "33f1a718-af12-4fa4-85ae-f5511e8986ae",
      "metadata": {
        "colab": {
          "base_uri": "https://localhost:8080/"
        },
        "id": "33f1a718-af12-4fa4-85ae-f5511e8986ae",
        "outputId": "e384be7a-eb2f-46c1-c8e4-c3e37ab4bd30"
      },
      "outputs": [
        {
          "output_type": "execute_result",
          "data": {
            "text/plain": [
              "reviews     object\n",
              "stars       object\n",
              "date        object\n",
              "country     object\n",
              "verified      bool\n",
              "corpus      object\n",
              "dtype: object"
            ]
          },
          "metadata": {},
          "execution_count": 14
        }
      ],
      "source": [
        "df.dtypes"
      ]
    },
    {
      "cell_type": "code",
      "execution_count": 15,
      "id": "c773fca4-23ee-4f7d-a1db-8da648ddb161",
      "metadata": {
        "id": "c773fca4-23ee-4f7d-a1db-8da648ddb161"
      },
      "outputs": [],
      "source": [
        "# convert the date to datetime format\n",
        "\n",
        "df.date = pd.to_datetime(df.date)"
      ]
    },
    {
      "cell_type": "code",
      "execution_count": 16,
      "id": "0440c89e-9a89-4ef4-888f-eb25ad833afb",
      "metadata": {
        "colab": {
          "base_uri": "https://localhost:8080/"
        },
        "id": "0440c89e-9a89-4ef4-888f-eb25ad833afb",
        "outputId": "192368ad-1e0d-436d-93f2-5b7bd5134df3"
      },
      "outputs": [
        {
          "output_type": "execute_result",
          "data": {
            "text/plain": [
              "0   2023-12-23\n",
              "1   2023-12-21\n",
              "2   2023-12-21\n",
              "3   2023-12-21\n",
              "4   2023-12-20\n",
              "Name: date, dtype: datetime64[ns]"
            ]
          },
          "metadata": {},
          "execution_count": 16
        }
      ],
      "source": [
        "df.date.head()"
      ]
    },
    {
      "cell_type": "markdown",
      "id": "a7973868-80c4-46b9-9449-6761fac91f64",
      "metadata": {
        "id": "a7973868-80c4-46b9-9449-6761fac91f64"
      },
      "source": [
        "### Cleaning ratings with stars"
      ]
    },
    {
      "cell_type": "code",
      "execution_count": 19,
      "id": "4f535799-1f5a-43d2-a858-5639f35b073c",
      "metadata": {
        "colab": {
          "base_uri": "https://localhost:8080/"
        },
        "id": "4f535799-1f5a-43d2-a858-5639f35b073c",
        "outputId": "79c2a62f-61b3-4c76-8fec-a735e3e84b67"
      },
      "outputs": [
        {
          "output_type": "execute_result",
          "data": {
            "text/plain": [
              "array(['\\n\\t\\t\\t\\t\\t\\t\\t\\t\\t\\t\\t\\t\\t5', '3', '6', '10', '1', '4', '8',\n",
              "       '9', '7', '5', '2', 'None'], dtype=object)"
            ]
          },
          "metadata": {},
          "execution_count": 19
        }
      ],
      "source": [
        "#check for unique values\n",
        "df.stars.unique()"
      ]
    },
    {
      "cell_type": "code",
      "execution_count": 20,
      "id": "5664b1c3-17d3-4f54-8799-388443a6242d",
      "metadata": {
        "id": "5664b1c3-17d3-4f54-8799-388443a6242d"
      },
      "outputs": [],
      "source": [
        "# remove the \\t and \\n from the ratings\n",
        "df.stars = df.stars.str.strip(\"\\n\\t\\t\\t\\t\\t\\t\\t\\t\\t\\t\\t\\t\\t\")"
      ]
    },
    {
      "cell_type": "code",
      "execution_count": 21,
      "id": "9cbfaa06-b519-4ce1-bb50-420692a923d6",
      "metadata": {
        "colab": {
          "base_uri": "https://localhost:8080/"
        },
        "id": "9cbfaa06-b519-4ce1-bb50-420692a923d6",
        "outputId": "0b021544-e105-43e8-c380-0739dea32134"
      },
      "outputs": [
        {
          "output_type": "execute_result",
          "data": {
            "text/plain": [
              "1       868\n",
              "2       422\n",
              "3       405\n",
              "8       365\n",
              "10      327\n",
              "7       310\n",
              "9       308\n",
              "5       270\n",
              "4       249\n",
              "6       192\n",
              "None      5\n",
              "Name: stars, dtype: int64"
            ]
          },
          "metadata": {},
          "execution_count": 21
        }
      ],
      "source": [
        "df.stars.value_counts()"
      ]
    },
    {
      "cell_type": "markdown",
      "id": "23941023-6f4d-44a3-9ae5-34ba7270a646",
      "metadata": {
        "id": "23941023-6f4d-44a3-9ae5-34ba7270a646"
      },
      "source": [
        "There are 5 rows having values \"None\" in the ratings. We will drop all these 5 rows."
      ]
    },
    {
      "cell_type": "code",
      "execution_count": 22,
      "id": "e5d3e147-b454-4515-8b14-54e4ec756b1c",
      "metadata": {
        "id": "e5d3e147-b454-4515-8b14-54e4ec756b1c"
      },
      "outputs": [],
      "source": [
        "# drop the rows where the value of ratings is None\n",
        "df.drop(df[df.stars == \"None\"].index, axis=0, inplace=True)"
      ]
    },
    {
      "cell_type": "code",
      "execution_count": 23,
      "id": "e152aed3-2da4-4ee9-90dc-d2bd3553d870",
      "metadata": {
        "colab": {
          "base_uri": "https://localhost:8080/"
        },
        "id": "e152aed3-2da4-4ee9-90dc-d2bd3553d870",
        "outputId": "e5820693-dfed-4647-e2da-dfc842e6d273"
      },
      "outputs": [
        {
          "output_type": "execute_result",
          "data": {
            "text/plain": [
              "array(['5', '3', '6', '10', '1', '4', '8', '9', '7', '2'], dtype=object)"
            ]
          },
          "metadata": {},
          "execution_count": 23
        }
      ],
      "source": [
        "#check the unique values again\n",
        "df.stars.unique()"
      ]
    },
    {
      "cell_type": "markdown",
      "id": "c29e569e-bab0-4d73-8496-f60aa375be38",
      "metadata": {
        "id": "c29e569e-bab0-4d73-8496-f60aa375be38"
      },
      "source": [
        "## Check for null Values"
      ]
    },
    {
      "cell_type": "code",
      "execution_count": 26,
      "id": "e81950f2-0cb3-4c1a-9859-233f4c3304d7",
      "metadata": {
        "colab": {
          "base_uri": "https://localhost:8080/"
        },
        "id": "e81950f2-0cb3-4c1a-9859-233f4c3304d7",
        "outputId": "0f71795d-6c58-47e9-ad63-46bb395cb60c"
      },
      "outputs": [
        {
          "output_type": "execute_result",
          "data": {
            "text/plain": [
              "reviews  stars  date   country  verified  corpus\n",
              "False    False  False  False    False     False     3714\n",
              "                       True     False     False        2\n",
              "dtype: int64"
            ]
          },
          "metadata": {},
          "execution_count": 26
        }
      ],
      "source": [
        "df.isnull().value_counts()"
      ]
    },
    {
      "cell_type": "code",
      "execution_count": 27,
      "id": "7c53f6a8-3f14-4711-a11a-a99f72015431",
      "metadata": {
        "colab": {
          "base_uri": "https://localhost:8080/"
        },
        "id": "7c53f6a8-3f14-4711-a11a-a99f72015431",
        "outputId": "172af968-35a7-48cd-ed0b-5020128ccba5"
      },
      "outputs": [
        {
          "output_type": "execute_result",
          "data": {
            "text/plain": [
              "False    3714\n",
              "True        2\n",
              "Name: country, dtype: int64"
            ]
          },
          "metadata": {},
          "execution_count": 27
        }
      ],
      "source": [
        "df.country.isnull().value_counts()"
      ]
    },
    {
      "cell_type": "markdown",
      "id": "3d9dbc68-9826-49e0-a003-d1c0c5e5d4f6",
      "metadata": {
        "id": "3d9dbc68-9826-49e0-a003-d1c0c5e5d4f6"
      },
      "source": [
        "We have two missing values for country. For this we can just remove those two reviews (rows) from the dataframe."
      ]
    },
    {
      "cell_type": "code",
      "execution_count": 28,
      "id": "98b5b16a-c25d-475b-8894-e680323195eb",
      "metadata": {
        "id": "98b5b16a-c25d-475b-8894-e680323195eb"
      },
      "outputs": [],
      "source": [
        "#drop the rows using index where the country value is null\n",
        "df.drop(df[df.country.isnull() == True].index, axis=0, inplace=True)"
      ]
    },
    {
      "cell_type": "code",
      "execution_count": 29,
      "id": "116656f9-0f7a-4d79-8f69-7f4fbf711eca",
      "metadata": {
        "colab": {
          "base_uri": "https://localhost:8080/"
        },
        "id": "116656f9-0f7a-4d79-8f69-7f4fbf711eca",
        "outputId": "bd6f7712-52e5-41ab-8393-74dcdc99fb4c"
      },
      "outputs": [
        {
          "output_type": "execute_result",
          "data": {
            "text/plain": [
              "(3714, 6)"
            ]
          },
          "metadata": {},
          "execution_count": 29
        }
      ],
      "source": [
        "df.shape"
      ]
    },
    {
      "cell_type": "code",
      "execution_count": 30,
      "id": "54a2b64d-4730-44f3-b40c-409d098f78f9",
      "metadata": {
        "colab": {
          "base_uri": "https://localhost:8080/",
          "height": 423
        },
        "id": "54a2b64d-4730-44f3-b40c-409d098f78f9",
        "outputId": "873f3a23-2b73-4629-e060-83b400087bc0"
      },
      "outputs": [
        {
          "output_type": "execute_result",
          "data": {
            "text/plain": [
              "                                                reviews stars       date  \\\n",
              "0     ✅ Trip Verified | Absolutely PATHETIC business...     5 2023-12-23   \n",
              "1     Not Verified |  Overall not bad. Staff look ti...     3 2023-12-21   \n",
              "2     ✅ Trip Verified | This was our first flight wi...     6 2023-12-21   \n",
              "3     ✅ Trip Verified | I recently encountered a hig...    10 2023-12-21   \n",
              "4     Not Verified |  Beware! BA don't provide any r...     1 2023-12-20   \n",
              "...                                                 ...   ...        ...   \n",
              "3709  LHR-HKG on Boeing 747 - 23/08/12. Much has bee...     3 2012-08-29   \n",
              "3710  Just got back from Bridgetown Barbados flying ...     9 2012-08-29   \n",
              "3711  LHR-JFK-LAX-LHR. Check in was ok apart from be...     8 2012-08-29   \n",
              "3712  LHR to HAM. Purser addresses all club passenge...     2 2012-08-28   \n",
              "3713  My son who had worked for British Airways urge...     7 2011-10-12   \n",
              "\n",
              "             country  verified  \\\n",
              "0      United States      True   \n",
              "1             Canada     False   \n",
              "2          Australia      True   \n",
              "3      United States      True   \n",
              "4      United States     False   \n",
              "...              ...       ...   \n",
              "3709  United Kingdom     False   \n",
              "3710  United Kingdom     False   \n",
              "3711  United Kingdom     False   \n",
              "3712  United Kingdom     False   \n",
              "3713  United Kingdom     False   \n",
              "\n",
              "                                                 corpus  \n",
              "0     absolutely pathetic business class product ba ...  \n",
              "1     verified overall bad staff look tired overwork...  \n",
              "2     first flight british airway year usual fault c...  \n",
              "3     recently encountered highly disappointing expe...  \n",
              "4     verified beware ba provide refund due serious ...  \n",
              "...                                                 ...  \n",
              "3709  lhr hkg boeing much written tired old fleet go...  \n",
              "3710  got back bridgetown barbados flying british ai...  \n",
              "3711  lhr jfk lax lhr check ok apart snapped early c...  \n",
              "3712  lhr ham purser address club passenger name boa...  \n",
              "3713  son worked british airway urged fly british ai...  \n",
              "\n",
              "[3714 rows x 6 columns]"
            ],
            "text/html": [
              "\n",
              "  <div id=\"df-17f2fd1d-25c1-4817-b48d-94e6c7d2fd7f\" class=\"colab-df-container\">\n",
              "    <div>\n",
              "<style scoped>\n",
              "    .dataframe tbody tr th:only-of-type {\n",
              "        vertical-align: middle;\n",
              "    }\n",
              "\n",
              "    .dataframe tbody tr th {\n",
              "        vertical-align: top;\n",
              "    }\n",
              "\n",
              "    .dataframe thead th {\n",
              "        text-align: right;\n",
              "    }\n",
              "</style>\n",
              "<table border=\"1\" class=\"dataframe\">\n",
              "  <thead>\n",
              "    <tr style=\"text-align: right;\">\n",
              "      <th></th>\n",
              "      <th>reviews</th>\n",
              "      <th>stars</th>\n",
              "      <th>date</th>\n",
              "      <th>country</th>\n",
              "      <th>verified</th>\n",
              "      <th>corpus</th>\n",
              "    </tr>\n",
              "  </thead>\n",
              "  <tbody>\n",
              "    <tr>\n",
              "      <th>0</th>\n",
              "      <td>✅ Trip Verified | Absolutely PATHETIC business...</td>\n",
              "      <td>5</td>\n",
              "      <td>2023-12-23</td>\n",
              "      <td>United States</td>\n",
              "      <td>True</td>\n",
              "      <td>absolutely pathetic business class product ba ...</td>\n",
              "    </tr>\n",
              "    <tr>\n",
              "      <th>1</th>\n",
              "      <td>Not Verified |  Overall not bad. Staff look ti...</td>\n",
              "      <td>3</td>\n",
              "      <td>2023-12-21</td>\n",
              "      <td>Canada</td>\n",
              "      <td>False</td>\n",
              "      <td>verified overall bad staff look tired overwork...</td>\n",
              "    </tr>\n",
              "    <tr>\n",
              "      <th>2</th>\n",
              "      <td>✅ Trip Verified | This was our first flight wi...</td>\n",
              "      <td>6</td>\n",
              "      <td>2023-12-21</td>\n",
              "      <td>Australia</td>\n",
              "      <td>True</td>\n",
              "      <td>first flight british airway year usual fault c...</td>\n",
              "    </tr>\n",
              "    <tr>\n",
              "      <th>3</th>\n",
              "      <td>✅ Trip Verified | I recently encountered a hig...</td>\n",
              "      <td>10</td>\n",
              "      <td>2023-12-21</td>\n",
              "      <td>United States</td>\n",
              "      <td>True</td>\n",
              "      <td>recently encountered highly disappointing expe...</td>\n",
              "    </tr>\n",
              "    <tr>\n",
              "      <th>4</th>\n",
              "      <td>Not Verified |  Beware! BA don't provide any r...</td>\n",
              "      <td>1</td>\n",
              "      <td>2023-12-20</td>\n",
              "      <td>United States</td>\n",
              "      <td>False</td>\n",
              "      <td>verified beware ba provide refund due serious ...</td>\n",
              "    </tr>\n",
              "    <tr>\n",
              "      <th>...</th>\n",
              "      <td>...</td>\n",
              "      <td>...</td>\n",
              "      <td>...</td>\n",
              "      <td>...</td>\n",
              "      <td>...</td>\n",
              "      <td>...</td>\n",
              "    </tr>\n",
              "    <tr>\n",
              "      <th>3709</th>\n",
              "      <td>LHR-HKG on Boeing 747 - 23/08/12. Much has bee...</td>\n",
              "      <td>3</td>\n",
              "      <td>2012-08-29</td>\n",
              "      <td>United Kingdom</td>\n",
              "      <td>False</td>\n",
              "      <td>lhr hkg boeing much written tired old fleet go...</td>\n",
              "    </tr>\n",
              "    <tr>\n",
              "      <th>3710</th>\n",
              "      <td>Just got back from Bridgetown Barbados flying ...</td>\n",
              "      <td>9</td>\n",
              "      <td>2012-08-29</td>\n",
              "      <td>United Kingdom</td>\n",
              "      <td>False</td>\n",
              "      <td>got back bridgetown barbados flying british ai...</td>\n",
              "    </tr>\n",
              "    <tr>\n",
              "      <th>3711</th>\n",
              "      <td>LHR-JFK-LAX-LHR. Check in was ok apart from be...</td>\n",
              "      <td>8</td>\n",
              "      <td>2012-08-29</td>\n",
              "      <td>United Kingdom</td>\n",
              "      <td>False</td>\n",
              "      <td>lhr jfk lax lhr check ok apart snapped early c...</td>\n",
              "    </tr>\n",
              "    <tr>\n",
              "      <th>3712</th>\n",
              "      <td>LHR to HAM. Purser addresses all club passenge...</td>\n",
              "      <td>2</td>\n",
              "      <td>2012-08-28</td>\n",
              "      <td>United Kingdom</td>\n",
              "      <td>False</td>\n",
              "      <td>lhr ham purser address club passenger name boa...</td>\n",
              "    </tr>\n",
              "    <tr>\n",
              "      <th>3713</th>\n",
              "      <td>My son who had worked for British Airways urge...</td>\n",
              "      <td>7</td>\n",
              "      <td>2011-10-12</td>\n",
              "      <td>United Kingdom</td>\n",
              "      <td>False</td>\n",
              "      <td>son worked british airway urged fly british ai...</td>\n",
              "    </tr>\n",
              "  </tbody>\n",
              "</table>\n",
              "<p>3714 rows × 6 columns</p>\n",
              "</div>\n",
              "    <div class=\"colab-df-buttons\">\n",
              "\n",
              "  <div class=\"colab-df-container\">\n",
              "    <button class=\"colab-df-convert\" onclick=\"convertToInteractive('df-17f2fd1d-25c1-4817-b48d-94e6c7d2fd7f')\"\n",
              "            title=\"Convert this dataframe to an interactive table.\"\n",
              "            style=\"display:none;\">\n",
              "\n",
              "  <svg xmlns=\"http://www.w3.org/2000/svg\" height=\"24px\" viewBox=\"0 -960 960 960\">\n",
              "    <path d=\"M120-120v-720h720v720H120Zm60-500h600v-160H180v160Zm220 220h160v-160H400v160Zm0 220h160v-160H400v160ZM180-400h160v-160H180v160Zm440 0h160v-160H620v160ZM180-180h160v-160H180v160Zm440 0h160v-160H620v160Z\"/>\n",
              "  </svg>\n",
              "    </button>\n",
              "\n",
              "  <style>\n",
              "    .colab-df-container {\n",
              "      display:flex;\n",
              "      gap: 12px;\n",
              "    }\n",
              "\n",
              "    .colab-df-convert {\n",
              "      background-color: #E8F0FE;\n",
              "      border: none;\n",
              "      border-radius: 50%;\n",
              "      cursor: pointer;\n",
              "      display: none;\n",
              "      fill: #1967D2;\n",
              "      height: 32px;\n",
              "      padding: 0 0 0 0;\n",
              "      width: 32px;\n",
              "    }\n",
              "\n",
              "    .colab-df-convert:hover {\n",
              "      background-color: #E2EBFA;\n",
              "      box-shadow: 0px 1px 2px rgba(60, 64, 67, 0.3), 0px 1px 3px 1px rgba(60, 64, 67, 0.15);\n",
              "      fill: #174EA6;\n",
              "    }\n",
              "\n",
              "    .colab-df-buttons div {\n",
              "      margin-bottom: 4px;\n",
              "    }\n",
              "\n",
              "    [theme=dark] .colab-df-convert {\n",
              "      background-color: #3B4455;\n",
              "      fill: #D2E3FC;\n",
              "    }\n",
              "\n",
              "    [theme=dark] .colab-df-convert:hover {\n",
              "      background-color: #434B5C;\n",
              "      box-shadow: 0px 1px 3px 1px rgba(0, 0, 0, 0.15);\n",
              "      filter: drop-shadow(0px 1px 2px rgba(0, 0, 0, 0.3));\n",
              "      fill: #FFFFFF;\n",
              "    }\n",
              "  </style>\n",
              "\n",
              "    <script>\n",
              "      const buttonEl =\n",
              "        document.querySelector('#df-17f2fd1d-25c1-4817-b48d-94e6c7d2fd7f button.colab-df-convert');\n",
              "      buttonEl.style.display =\n",
              "        google.colab.kernel.accessAllowed ? 'block' : 'none';\n",
              "\n",
              "      async function convertToInteractive(key) {\n",
              "        const element = document.querySelector('#df-17f2fd1d-25c1-4817-b48d-94e6c7d2fd7f');\n",
              "        const dataTable =\n",
              "          await google.colab.kernel.invokeFunction('convertToInteractive',\n",
              "                                                    [key], {});\n",
              "        if (!dataTable) return;\n",
              "\n",
              "        const docLinkHtml = 'Like what you see? Visit the ' +\n",
              "          '<a target=\"_blank\" href=https://colab.research.google.com/notebooks/data_table.ipynb>data table notebook</a>'\n",
              "          + ' to learn more about interactive tables.';\n",
              "        element.innerHTML = '';\n",
              "        dataTable['output_type'] = 'display_data';\n",
              "        await google.colab.output.renderOutput(dataTable, element);\n",
              "        const docLink = document.createElement('div');\n",
              "        docLink.innerHTML = docLinkHtml;\n",
              "        element.appendChild(docLink);\n",
              "      }\n",
              "    </script>\n",
              "  </div>\n",
              "\n",
              "\n",
              "<div id=\"df-06dff77f-7420-49a4-903b-47d22d02230e\">\n",
              "  <button class=\"colab-df-quickchart\" onclick=\"quickchart('df-06dff77f-7420-49a4-903b-47d22d02230e')\"\n",
              "            title=\"Suggest charts\"\n",
              "            style=\"display:none;\">\n",
              "\n",
              "<svg xmlns=\"http://www.w3.org/2000/svg\" height=\"24px\"viewBox=\"0 0 24 24\"\n",
              "     width=\"24px\">\n",
              "    <g>\n",
              "        <path d=\"M19 3H5c-1.1 0-2 .9-2 2v14c0 1.1.9 2 2 2h14c1.1 0 2-.9 2-2V5c0-1.1-.9-2-2-2zM9 17H7v-7h2v7zm4 0h-2V7h2v10zm4 0h-2v-4h2v4z\"/>\n",
              "    </g>\n",
              "</svg>\n",
              "  </button>\n",
              "\n",
              "<style>\n",
              "  .colab-df-quickchart {\n",
              "      --bg-color: #E8F0FE;\n",
              "      --fill-color: #1967D2;\n",
              "      --hover-bg-color: #E2EBFA;\n",
              "      --hover-fill-color: #174EA6;\n",
              "      --disabled-fill-color: #AAA;\n",
              "      --disabled-bg-color: #DDD;\n",
              "  }\n",
              "\n",
              "  [theme=dark] .colab-df-quickchart {\n",
              "      --bg-color: #3B4455;\n",
              "      --fill-color: #D2E3FC;\n",
              "      --hover-bg-color: #434B5C;\n",
              "      --hover-fill-color: #FFFFFF;\n",
              "      --disabled-bg-color: #3B4455;\n",
              "      --disabled-fill-color: #666;\n",
              "  }\n",
              "\n",
              "  .colab-df-quickchart {\n",
              "    background-color: var(--bg-color);\n",
              "    border: none;\n",
              "    border-radius: 50%;\n",
              "    cursor: pointer;\n",
              "    display: none;\n",
              "    fill: var(--fill-color);\n",
              "    height: 32px;\n",
              "    padding: 0;\n",
              "    width: 32px;\n",
              "  }\n",
              "\n",
              "  .colab-df-quickchart:hover {\n",
              "    background-color: var(--hover-bg-color);\n",
              "    box-shadow: 0 1px 2px rgba(60, 64, 67, 0.3), 0 1px 3px 1px rgba(60, 64, 67, 0.15);\n",
              "    fill: var(--button-hover-fill-color);\n",
              "  }\n",
              "\n",
              "  .colab-df-quickchart-complete:disabled,\n",
              "  .colab-df-quickchart-complete:disabled:hover {\n",
              "    background-color: var(--disabled-bg-color);\n",
              "    fill: var(--disabled-fill-color);\n",
              "    box-shadow: none;\n",
              "  }\n",
              "\n",
              "  .colab-df-spinner {\n",
              "    border: 2px solid var(--fill-color);\n",
              "    border-color: transparent;\n",
              "    border-bottom-color: var(--fill-color);\n",
              "    animation:\n",
              "      spin 1s steps(1) infinite;\n",
              "  }\n",
              "\n",
              "  @keyframes spin {\n",
              "    0% {\n",
              "      border-color: transparent;\n",
              "      border-bottom-color: var(--fill-color);\n",
              "      border-left-color: var(--fill-color);\n",
              "    }\n",
              "    20% {\n",
              "      border-color: transparent;\n",
              "      border-left-color: var(--fill-color);\n",
              "      border-top-color: var(--fill-color);\n",
              "    }\n",
              "    30% {\n",
              "      border-color: transparent;\n",
              "      border-left-color: var(--fill-color);\n",
              "      border-top-color: var(--fill-color);\n",
              "      border-right-color: var(--fill-color);\n",
              "    }\n",
              "    40% {\n",
              "      border-color: transparent;\n",
              "      border-right-color: var(--fill-color);\n",
              "      border-top-color: var(--fill-color);\n",
              "    }\n",
              "    60% {\n",
              "      border-color: transparent;\n",
              "      border-right-color: var(--fill-color);\n",
              "    }\n",
              "    80% {\n",
              "      border-color: transparent;\n",
              "      border-right-color: var(--fill-color);\n",
              "      border-bottom-color: var(--fill-color);\n",
              "    }\n",
              "    90% {\n",
              "      border-color: transparent;\n",
              "      border-bottom-color: var(--fill-color);\n",
              "    }\n",
              "  }\n",
              "</style>\n",
              "\n",
              "  <script>\n",
              "    async function quickchart(key) {\n",
              "      const quickchartButtonEl =\n",
              "        document.querySelector('#' + key + ' button');\n",
              "      quickchartButtonEl.disabled = true;  // To prevent multiple clicks.\n",
              "      quickchartButtonEl.classList.add('colab-df-spinner');\n",
              "      try {\n",
              "        const charts = await google.colab.kernel.invokeFunction(\n",
              "            'suggestCharts', [key], {});\n",
              "      } catch (error) {\n",
              "        console.error('Error during call to suggestCharts:', error);\n",
              "      }\n",
              "      quickchartButtonEl.classList.remove('colab-df-spinner');\n",
              "      quickchartButtonEl.classList.add('colab-df-quickchart-complete');\n",
              "    }\n",
              "    (() => {\n",
              "      let quickchartButtonEl =\n",
              "        document.querySelector('#df-06dff77f-7420-49a4-903b-47d22d02230e button');\n",
              "      quickchartButtonEl.style.display =\n",
              "        google.colab.kernel.accessAllowed ? 'block' : 'none';\n",
              "    })();\n",
              "  </script>\n",
              "</div>\n",
              "\n",
              "    </div>\n",
              "  </div>\n"
            ]
          },
          "metadata": {},
          "execution_count": 30
        }
      ],
      "source": [
        "#resetting the index\n",
        "df.reset_index(drop=True)"
      ]
    },
    {
      "cell_type": "markdown",
      "id": "9fa4efa3-5d41-4fa7-a5ac-a959e322fcc9",
      "metadata": {
        "id": "9fa4efa3-5d41-4fa7-a5ac-a959e322fcc9"
      },
      "source": [
        "*****"
      ]
    },
    {
      "cell_type": "markdown",
      "id": "cbb39abb-e09a-4bad-9fa6-65bba66ed631",
      "metadata": {
        "id": "cbb39abb-e09a-4bad-9fa6-65bba66ed631"
      },
      "source": [
        "Now our data is all cleaned and ready for data visualization and data analysis."
      ]
    },
    {
      "cell_type": "code",
      "execution_count": 31,
      "id": "d9f0183c-e72a-4028-9c9a-1f3dee87c342",
      "metadata": {
        "id": "d9f0183c-e72a-4028-9c9a-1f3dee87c342"
      },
      "outputs": [],
      "source": [
        "# export the cleaned data\n",
        "\n",
        "df.to_csv(cwd + \"/cleaned-BA-reviews.csv\")"
      ]
    },
    {
      "cell_type": "code",
      "execution_count": null,
      "id": "4f9bad2f-721b-445a-86f9-bc9e16c177ce",
      "metadata": {
        "id": "4f9bad2f-721b-445a-86f9-bc9e16c177ce"
      },
      "outputs": [],
      "source": []
    }
  ],
  "metadata": {
    "kernelspec": {
      "display_name": "Python 3 (ipykernel)",
      "language": "python",
      "name": "python3"
    },
    "language_info": {
      "codemirror_mode": {
        "name": "ipython",
        "version": 3
      },
      "file_extension": ".py",
      "mimetype": "text/x-python",
      "name": "python",
      "nbconvert_exporter": "python",
      "pygments_lexer": "ipython3",
      "version": "3.9.7"
    },
    "colab": {
      "provenance": []
    }
  },
  "nbformat": 4,
  "nbformat_minor": 5
}