{
 "cells": [
  {
   "cell_type": "code",
   "execution_count": 58,
   "id": "9a6004b5-6b5f-45d4-846a-78cfb9a7d6bf",
   "metadata": {},
   "outputs": [],
   "source": [
    "import pandas as pd\n",
    "import numpy as np\n",
    "df=pd.read_csv(\"C:\\\\Users\\\\swapn\\\\Downloads\\\\LR 5.csv\")\n",
    "\n",
    "import warnings\n",
    "warnings.filterwarnings('ignore')"
   ]
  },
  {
   "cell_type": "code",
   "execution_count": 59,
   "id": "d6a08752-7885-45df-bcd2-e20e3c472678",
   "metadata": {},
   "outputs": [
    {
     "data": {
      "text/html": [
       "<div>\n",
       "<style scoped>\n",
       "    .dataframe tbody tr th:only-of-type {\n",
       "        vertical-align: middle;\n",
       "    }\n",
       "\n",
       "    .dataframe tbody tr th {\n",
       "        vertical-align: top;\n",
       "    }\n",
       "\n",
       "    .dataframe thead th {\n",
       "        text-align: right;\n",
       "    }\n",
       "</style>\n",
       "<table border=\"1\" class=\"dataframe\">\n",
       "  <thead>\n",
       "    <tr style=\"text-align: right;\">\n",
       "      <th></th>\n",
       "      <th>Tenure</th>\n",
       "      <th>Salary</th>\n",
       "      <th>JobSatisfaction</th>\n",
       "      <th>WorkLifeBalance</th>\n",
       "      <th>PerformanceRating</th>\n",
       "      <th>TrainingHours</th>\n",
       "      <th>OverTime</th>\n",
       "      <th>NumProjects</th>\n",
       "      <th>YearsSincePromotion</th>\n",
       "    </tr>\n",
       "  </thead>\n",
       "  <tbody>\n",
       "    <tr>\n",
       "      <th>count</th>\n",
       "      <td>1543.000000</td>\n",
       "      <td>1543.000000</td>\n",
       "      <td>1543.000000</td>\n",
       "      <td>1543.000000</td>\n",
       "      <td>1543.000000</td>\n",
       "      <td>1543.000000</td>\n",
       "      <td>1543.000000</td>\n",
       "      <td>1543.000000</td>\n",
       "      <td>1543.000000</td>\n",
       "    </tr>\n",
       "    <tr>\n",
       "      <th>mean</th>\n",
       "      <td>7.608555</td>\n",
       "      <td>66653.596889</td>\n",
       "      <td>3.414128</td>\n",
       "      <td>3.774930</td>\n",
       "      <td>3.492719</td>\n",
       "      <td>34.070603</td>\n",
       "      <td>0.935191</td>\n",
       "      <td>3.508367</td>\n",
       "      <td>1.202852</td>\n",
       "    </tr>\n",
       "    <tr>\n",
       "      <th>std</th>\n",
       "      <td>4.112047</td>\n",
       "      <td>8448.865707</td>\n",
       "      <td>1.086520</td>\n",
       "      <td>0.477998</td>\n",
       "      <td>0.410415</td>\n",
       "      <td>21.555057</td>\n",
       "      <td>0.246268</td>\n",
       "      <td>0.691422</td>\n",
       "      <td>2.059036</td>\n",
       "    </tr>\n",
       "    <tr>\n",
       "      <th>min</th>\n",
       "      <td>0.000000</td>\n",
       "      <td>40000.000000</td>\n",
       "      <td>1.000000</td>\n",
       "      <td>2.000000</td>\n",
       "      <td>1.640000</td>\n",
       "      <td>5.200000</td>\n",
       "      <td>0.000000</td>\n",
       "      <td>1.510000</td>\n",
       "      <td>0.000000</td>\n",
       "    </tr>\n",
       "    <tr>\n",
       "      <th>25%</th>\n",
       "      <td>5.000000</td>\n",
       "      <td>61000.000000</td>\n",
       "      <td>3.000000</td>\n",
       "      <td>3.500000</td>\n",
       "      <td>3.333000</td>\n",
       "      <td>18.000000</td>\n",
       "      <td>1.000000</td>\n",
       "      <td>3.000000</td>\n",
       "      <td>0.000000</td>\n",
       "    </tr>\n",
       "    <tr>\n",
       "      <th>50%</th>\n",
       "      <td>7.000000</td>\n",
       "      <td>66500.000000</td>\n",
       "      <td>3.000000</td>\n",
       "      <td>4.000000</td>\n",
       "      <td>3.363000</td>\n",
       "      <td>30.000000</td>\n",
       "      <td>1.000000</td>\n",
       "      <td>3.620000</td>\n",
       "      <td>0.000000</td>\n",
       "    </tr>\n",
       "    <tr>\n",
       "      <th>75%</th>\n",
       "      <td>10.000000</td>\n",
       "      <td>72000.000000</td>\n",
       "      <td>4.000000</td>\n",
       "      <td>4.000000</td>\n",
       "      <td>3.667000</td>\n",
       "      <td>36.000000</td>\n",
       "      <td>1.000000</td>\n",
       "      <td>4.000000</td>\n",
       "      <td>2.000000</td>\n",
       "    </tr>\n",
       "    <tr>\n",
       "      <th>max</th>\n",
       "      <td>27.000000</td>\n",
       "      <td>98000.000000</td>\n",
       "      <td>5.000000</td>\n",
       "      <td>5.000000</td>\n",
       "      <td>5.000000</td>\n",
       "      <td>96.000000</td>\n",
       "      <td>1.000000</td>\n",
       "      <td>6.390000</td>\n",
       "      <td>16.000000</td>\n",
       "    </tr>\n",
       "  </tbody>\n",
       "</table>\n",
       "</div>"
      ],
      "text/plain": [
       "            Tenure        Salary  JobSatisfaction  WorkLifeBalance  \\\n",
       "count  1543.000000   1543.000000      1543.000000      1543.000000   \n",
       "mean      7.608555  66653.596889         3.414128         3.774930   \n",
       "std       4.112047   8448.865707         1.086520         0.477998   \n",
       "min       0.000000  40000.000000         1.000000         2.000000   \n",
       "25%       5.000000  61000.000000         3.000000         3.500000   \n",
       "50%       7.000000  66500.000000         3.000000         4.000000   \n",
       "75%      10.000000  72000.000000         4.000000         4.000000   \n",
       "max      27.000000  98000.000000         5.000000         5.000000   \n",
       "\n",
       "       PerformanceRating  TrainingHours     OverTime  NumProjects  \\\n",
       "count        1543.000000    1543.000000  1543.000000  1543.000000   \n",
       "mean            3.492719      34.070603     0.935191     3.508367   \n",
       "std             0.410415      21.555057     0.246268     0.691422   \n",
       "min             1.640000       5.200000     0.000000     1.510000   \n",
       "25%             3.333000      18.000000     1.000000     3.000000   \n",
       "50%             3.363000      30.000000     1.000000     3.620000   \n",
       "75%             3.667000      36.000000     1.000000     4.000000   \n",
       "max             5.000000      96.000000     1.000000     6.390000   \n",
       "\n",
       "       YearsSincePromotion  \n",
       "count          1543.000000  \n",
       "mean              1.202852  \n",
       "std               2.059036  \n",
       "min               0.000000  \n",
       "25%               0.000000  \n",
       "50%               0.000000  \n",
       "75%               2.000000  \n",
       "max              16.000000  "
      ]
     },
     "execution_count": 59,
     "metadata": {},
     "output_type": "execute_result"
    }
   ],
   "source": [
    "df.describe()"
   ]
  },
  {
   "cell_type": "code",
   "execution_count": 60,
   "id": "88e009bb-9eab-45f8-a361-86f3e32d61a8",
   "metadata": {},
   "outputs": [
    {
     "name": "stdout",
     "output_type": "stream",
     "text": [
      "<class 'pandas.core.frame.DataFrame'>\n",
      "RangeIndex: 1543 entries, 0 to 1542\n",
      "Data columns (total 14 columns):\n",
      " #   Column               Non-Null Count  Dtype  \n",
      "---  ------               --------------  -----  \n",
      " 0   Tenure               1543 non-null   int64  \n",
      " 1   Salary               1543 non-null   int64  \n",
      " 2   Department           1543 non-null   object \n",
      " 3   JobSatisfaction      1543 non-null   int64  \n",
      " 4   WorkLifeBalance      1543 non-null   float64\n",
      " 5   CommuteDistance      1543 non-null   object \n",
      " 6   MaritalStatus        1543 non-null   object \n",
      " 7   Education            1543 non-null   object \n",
      " 8   PerformanceRating    1543 non-null   float64\n",
      " 9   TrainingHours        1543 non-null   float64\n",
      " 10  OverTime             1543 non-null   int64  \n",
      " 11  NumProjects          1543 non-null   float64\n",
      " 12  YearsSincePromotion  1543 non-null   int64  \n",
      " 13  ChurnLikelihood      1543 non-null   object \n",
      "dtypes: float64(4), int64(5), object(5)\n",
      "memory usage: 168.9+ KB\n"
     ]
    }
   ],
   "source": [
    "df.info()"
   ]
  },
  {
   "cell_type": "code",
   "execution_count": 61,
   "id": "4c2f8737-e4f2-4272-832f-25262101a9f9",
   "metadata": {},
   "outputs": [
    {
     "data": {
      "text/plain": [
       "Tenure                 0\n",
       "Salary                 0\n",
       "Department             0\n",
       "JobSatisfaction        0\n",
       "WorkLifeBalance        0\n",
       "CommuteDistance        0\n",
       "MaritalStatus          0\n",
       "Education              0\n",
       "PerformanceRating      0\n",
       "TrainingHours          0\n",
       "OverTime               0\n",
       "NumProjects            0\n",
       "YearsSincePromotion    0\n",
       "ChurnLikelihood        0\n",
       "dtype: int64"
      ]
     },
     "execution_count": 61,
     "metadata": {},
     "output_type": "execute_result"
    }
   ],
   "source": [
    "df.isnull().sum()"
   ]
  },
  {
   "cell_type": "code",
   "execution_count": null,
   "id": "b23ac8d2-4290-4325-8027-ec6a3489d7a6",
   "metadata": {},
   "outputs": [],
   "source": []
  },
  {
   "cell_type": "code",
   "execution_count": 62,
   "id": "5fbc01d2-fa2c-4a19-9a2d-75f93cf558f2",
   "metadata": {},
   "outputs": [
    {
     "data": {
      "text/plain": [
       "array(['Highly Likely', 'Less Likely'], dtype=object)"
      ]
     },
     "execution_count": 62,
     "metadata": {},
     "output_type": "execute_result"
    }
   ],
   "source": [
    "df['ChurnLikelihood'].unique()"
   ]
  },
  {
   "cell_type": "code",
   "execution_count": 63,
   "id": "05462d1f-536b-4a32-9e77-8cc88d036218",
   "metadata": {},
   "outputs": [],
   "source": [
    "numeric_features = [feature for feature in df.columns if df[feature].dtype != 'O']\n",
    "categorical_features = [feature for feature in df.columns if df[feature].dtype == 'O']"
   ]
  },
  {
   "cell_type": "code",
   "execution_count": 64,
   "id": "1f9d2870-3103-4ddd-8a50-5835b1c7d0c0",
   "metadata": {},
   "outputs": [
    {
     "data": {
      "text/plain": [
       "['Department',\n",
       " 'CommuteDistance',\n",
       " 'MaritalStatus',\n",
       " 'Education',\n",
       " 'ChurnLikelihood']"
      ]
     },
     "execution_count": 64,
     "metadata": {},
     "output_type": "execute_result"
    }
   ],
   "source": [
    "categorical_features"
   ]
  },
  {
   "cell_type": "code",
   "execution_count": 65,
   "id": "57545deb-0b03-4812-bc61-5c01baa0c7b7",
   "metadata": {},
   "outputs": [
    {
     "name": "stdout",
     "output_type": "stream",
     "text": [
      "<class 'pandas.core.frame.DataFrame'>\n",
      "(1543, 14)\n"
     ]
    }
   ],
   "source": [
    "print(type(df))\n",
    "print(df.shape)"
   ]
  },
  {
   "cell_type": "code",
   "execution_count": 66,
   "id": "578ad3a4-258f-4e86-8d58-b8e6fed80e97",
   "metadata": {},
   "outputs": [],
   "source": [
    "df['ChurnLikelihood']=df['ChurnLikelihood'].map({'Highly Likely':1, 'Less Likely':0})"
   ]
  },
  {
   "cell_type": "code",
   "execution_count": 67,
   "id": "f4e6ab4a-0bca-4f13-a5b7-3eba6fb39007",
   "metadata": {},
   "outputs": [],
   "source": [
    "df = df.drop('Department', axis=1)\n"
   ]
  },
  {
   "cell_type": "code",
   "execution_count": 68,
   "id": "e8786840-8b24-49df-9809-01d7e899ef60",
   "metadata": {},
   "outputs": [
    {
     "data": {
      "text/plain": [
       "array(['Short', 'Medium', 'Long'], dtype=object)"
      ]
     },
     "execution_count": 68,
     "metadata": {},
     "output_type": "execute_result"
    }
   ],
   "source": [
    "df['CommuteDistance'].unique()"
   ]
  },
  {
   "cell_type": "code",
   "execution_count": 69,
   "id": "87ceb96b-a2c6-4e83-8add-6b0cc7b55e23",
   "metadata": {},
   "outputs": [],
   "source": [
    "df['CommuteDistance']=df['CommuteDistance'].map({'Short':0, 'Medium':1, 'Long':2})"
   ]
  },
  {
   "cell_type": "code",
   "execution_count": 70,
   "id": "d6b03059-3df5-46b6-a520-116a047bfe6c",
   "metadata": {},
   "outputs": [
    {
     "data": {
      "text/plain": [
       "array(['Single', 'Married', 'Divorced'], dtype=object)"
      ]
     },
     "execution_count": 70,
     "metadata": {},
     "output_type": "execute_result"
    }
   ],
   "source": [
    "df['MaritalStatus'].unique()"
   ]
  },
  {
   "cell_type": "code",
   "execution_count": 71,
   "id": "ac38a7b9-95f8-4887-9534-d33abd9913ee",
   "metadata": {},
   "outputs": [],
   "source": [
    "df = pd.get_dummies(df, columns=['MaritalStatus'], prefix='MaritalStatus')\n"
   ]
  },
  {
   "cell_type": "code",
   "execution_count": 72,
   "id": "65b8d373-60bb-4f56-adbd-97f08646430f",
   "metadata": {},
   "outputs": [
    {
     "data": {
      "text/html": [
       "<div>\n",
       "<style scoped>\n",
       "    .dataframe tbody tr th:only-of-type {\n",
       "        vertical-align: middle;\n",
       "    }\n",
       "\n",
       "    .dataframe tbody tr th {\n",
       "        vertical-align: top;\n",
       "    }\n",
       "\n",
       "    .dataframe thead th {\n",
       "        text-align: right;\n",
       "    }\n",
       "</style>\n",
       "<table border=\"1\" class=\"dataframe\">\n",
       "  <thead>\n",
       "    <tr style=\"text-align: right;\">\n",
       "      <th></th>\n",
       "      <th>Tenure</th>\n",
       "      <th>Salary</th>\n",
       "      <th>JobSatisfaction</th>\n",
       "      <th>WorkLifeBalance</th>\n",
       "      <th>CommuteDistance</th>\n",
       "      <th>Education</th>\n",
       "      <th>PerformanceRating</th>\n",
       "      <th>TrainingHours</th>\n",
       "      <th>OverTime</th>\n",
       "      <th>NumProjects</th>\n",
       "      <th>YearsSincePromotion</th>\n",
       "      <th>ChurnLikelihood</th>\n",
       "      <th>MaritalStatus_Divorced</th>\n",
       "      <th>MaritalStatus_Married</th>\n",
       "      <th>MaritalStatus_Single</th>\n",
       "    </tr>\n",
       "  </thead>\n",
       "  <tbody>\n",
       "    <tr>\n",
       "      <th>0</th>\n",
       "      <td>10</td>\n",
       "      <td>73500</td>\n",
       "      <td>4</td>\n",
       "      <td>4.0</td>\n",
       "      <td>0</td>\n",
       "      <td>Bachelor</td>\n",
       "      <td>3.333</td>\n",
       "      <td>18.0</td>\n",
       "      <td>1</td>\n",
       "      <td>2.00</td>\n",
       "      <td>2</td>\n",
       "      <td>1</td>\n",
       "      <td>0</td>\n",
       "      <td>0</td>\n",
       "      <td>1</td>\n",
       "    </tr>\n",
       "    <tr>\n",
       "      <th>1</th>\n",
       "      <td>5</td>\n",
       "      <td>63500</td>\n",
       "      <td>4</td>\n",
       "      <td>3.0</td>\n",
       "      <td>1</td>\n",
       "      <td>Bachelor</td>\n",
       "      <td>2.667</td>\n",
       "      <td>12.0</td>\n",
       "      <td>1</td>\n",
       "      <td>3.62</td>\n",
       "      <td>0</td>\n",
       "      <td>1</td>\n",
       "      <td>0</td>\n",
       "      <td>0</td>\n",
       "      <td>1</td>\n",
       "    </tr>\n",
       "    <tr>\n",
       "      <th>2</th>\n",
       "      <td>8</td>\n",
       "      <td>59000</td>\n",
       "      <td>3</td>\n",
       "      <td>3.5</td>\n",
       "      <td>1</td>\n",
       "      <td>Master</td>\n",
       "      <td>3.333</td>\n",
       "      <td>24.0</td>\n",
       "      <td>1</td>\n",
       "      <td>3.00</td>\n",
       "      <td>0</td>\n",
       "      <td>1</td>\n",
       "      <td>0</td>\n",
       "      <td>0</td>\n",
       "      <td>1</td>\n",
       "    </tr>\n",
       "    <tr>\n",
       "      <th>3</th>\n",
       "      <td>4</td>\n",
       "      <td>72000</td>\n",
       "      <td>4</td>\n",
       "      <td>3.5</td>\n",
       "      <td>2</td>\n",
       "      <td>Bachelor</td>\n",
       "      <td>2.667</td>\n",
       "      <td>24.0</td>\n",
       "      <td>1</td>\n",
       "      <td>2.00</td>\n",
       "      <td>0</td>\n",
       "      <td>1</td>\n",
       "      <td>0</td>\n",
       "      <td>0</td>\n",
       "      <td>1</td>\n",
       "    </tr>\n",
       "    <tr>\n",
       "      <th>4</th>\n",
       "      <td>7</td>\n",
       "      <td>83000</td>\n",
       "      <td>3</td>\n",
       "      <td>3.5</td>\n",
       "      <td>1</td>\n",
       "      <td>Master</td>\n",
       "      <td>3.000</td>\n",
       "      <td>36.0</td>\n",
       "      <td>1</td>\n",
       "      <td>4.00</td>\n",
       "      <td>1</td>\n",
       "      <td>1</td>\n",
       "      <td>0</td>\n",
       "      <td>1</td>\n",
       "      <td>0</td>\n",
       "    </tr>\n",
       "  </tbody>\n",
       "</table>\n",
       "</div>"
      ],
      "text/plain": [
       "   Tenure  Salary  JobSatisfaction  WorkLifeBalance  CommuteDistance  \\\n",
       "0      10   73500                4              4.0                0   \n",
       "1       5   63500                4              3.0                1   \n",
       "2       8   59000                3              3.5                1   \n",
       "3       4   72000                4              3.5                2   \n",
       "4       7   83000                3              3.5                1   \n",
       "\n",
       "  Education  PerformanceRating  TrainingHours  OverTime  NumProjects  \\\n",
       "0  Bachelor              3.333           18.0         1         2.00   \n",
       "1  Bachelor              2.667           12.0         1         3.62   \n",
       "2    Master              3.333           24.0         1         3.00   \n",
       "3  Bachelor              2.667           24.0         1         2.00   \n",
       "4    Master              3.000           36.0         1         4.00   \n",
       "\n",
       "   YearsSincePromotion  ChurnLikelihood  MaritalStatus_Divorced  \\\n",
       "0                    2                1                       0   \n",
       "1                    0                1                       0   \n",
       "2                    0                1                       0   \n",
       "3                    0                1                       0   \n",
       "4                    1                1                       0   \n",
       "\n",
       "   MaritalStatus_Married  MaritalStatus_Single  \n",
       "0                      0                     1  \n",
       "1                      0                     1  \n",
       "2                      0                     1  \n",
       "3                      0                     1  \n",
       "4                      1                     0  "
      ]
     },
     "execution_count": 72,
     "metadata": {},
     "output_type": "execute_result"
    }
   ],
   "source": [
    "df.head()"
   ]
  },
  {
   "cell_type": "code",
   "execution_count": 73,
   "id": "46b43d0c-22e0-4d7a-9215-d01c69029559",
   "metadata": {},
   "outputs": [
    {
     "data": {
      "text/plain": [
       "array(['Bachelor', 'Master', 'High School'], dtype=object)"
      ]
     },
     "execution_count": 73,
     "metadata": {},
     "output_type": "execute_result"
    }
   ],
   "source": [
    "df['Education'].unique()"
   ]
  },
  {
   "cell_type": "code",
   "execution_count": 74,
   "id": "ba519007-91b6-460a-814f-f0166e0f46bf",
   "metadata": {},
   "outputs": [],
   "source": [
    "df['Education']=df['Education'].map({'Bachelor':1, 'Master':2, 'High School':0})"
   ]
  },
  {
   "cell_type": "code",
   "execution_count": 75,
   "id": "df6ae39d-a1c7-42d0-b4d4-b26a8598e30d",
   "metadata": {},
   "outputs": [
    {
     "name": "stdout",
     "output_type": "stream",
     "text": [
      "<class 'pandas.core.frame.DataFrame'>\n",
      "RangeIndex: 1543 entries, 0 to 1542\n",
      "Data columns (total 15 columns):\n",
      " #   Column                  Non-Null Count  Dtype  \n",
      "---  ------                  --------------  -----  \n",
      " 0   Tenure                  1543 non-null   int64  \n",
      " 1   Salary                  1543 non-null   int64  \n",
      " 2   JobSatisfaction         1543 non-null   int64  \n",
      " 3   WorkLifeBalance         1543 non-null   float64\n",
      " 4   CommuteDistance         1543 non-null   int64  \n",
      " 5   Education               1543 non-null   int64  \n",
      " 6   PerformanceRating       1543 non-null   float64\n",
      " 7   TrainingHours           1543 non-null   float64\n",
      " 8   OverTime                1543 non-null   int64  \n",
      " 9   NumProjects             1543 non-null   float64\n",
      " 10  YearsSincePromotion     1543 non-null   int64  \n",
      " 11  ChurnLikelihood         1543 non-null   int64  \n",
      " 12  MaritalStatus_Divorced  1543 non-null   uint8  \n",
      " 13  MaritalStatus_Married   1543 non-null   uint8  \n",
      " 14  MaritalStatus_Single    1543 non-null   uint8  \n",
      "dtypes: float64(4), int64(8), uint8(3)\n",
      "memory usage: 149.3 KB\n"
     ]
    }
   ],
   "source": [
    "df.info()"
   ]
  },
  {
   "cell_type": "code",
   "execution_count": 76,
   "id": "0bc9becd-216a-4821-974a-f11ef21ca24b",
   "metadata": {},
   "outputs": [],
   "source": [
    "x=df.iloc[:,:-1]\n",
    "y=df.iloc[:,-1]"
   ]
  },
  {
   "cell_type": "code",
   "execution_count": 77,
   "id": "f5b5854b-f707-4f91-b694-61f41e2d8741",
   "metadata": {},
   "outputs": [],
   "source": [
    "from sklearn.model_selection import train_test_split\n",
    "x_train,x_test,y_train,y_test=train_test_split(x,y,test_size=0.2,random_state=42)"
   ]
  },
  {
   "cell_type": "code",
   "execution_count": 78,
   "id": "e570c54e-4fa9-49a9-b07e-bc644548cb4c",
   "metadata": {},
   "outputs": [],
   "source": [
    "from sklearn.linear_model import LogisticRegression\n",
    "classification=LogisticRegression(max_iter=200)"
   ]
  },
  {
   "cell_type": "code",
   "execution_count": 79,
   "id": "c72b856d-0f65-4e58-8f6f-58313fe20d6f",
   "metadata": {},
   "outputs": [
    {
     "data": {
      "text/html": [
       "<style>#sk-container-id-2 {color: black;}#sk-container-id-2 pre{padding: 0;}#sk-container-id-2 div.sk-toggleable {background-color: white;}#sk-container-id-2 label.sk-toggleable__label {cursor: pointer;display: block;width: 100%;margin-bottom: 0;padding: 0.3em;box-sizing: border-box;text-align: center;}#sk-container-id-2 label.sk-toggleable__label-arrow:before {content: \"▸\";float: left;margin-right: 0.25em;color: #696969;}#sk-container-id-2 label.sk-toggleable__label-arrow:hover:before {color: black;}#sk-container-id-2 div.sk-estimator:hover label.sk-toggleable__label-arrow:before {color: black;}#sk-container-id-2 div.sk-toggleable__content {max-height: 0;max-width: 0;overflow: hidden;text-align: left;background-color: #f0f8ff;}#sk-container-id-2 div.sk-toggleable__content pre {margin: 0.2em;color: black;border-radius: 0.25em;background-color: #f0f8ff;}#sk-container-id-2 input.sk-toggleable__control:checked~div.sk-toggleable__content {max-height: 200px;max-width: 100%;overflow: auto;}#sk-container-id-2 input.sk-toggleable__control:checked~label.sk-toggleable__label-arrow:before {content: \"▾\";}#sk-container-id-2 div.sk-estimator input.sk-toggleable__control:checked~label.sk-toggleable__label {background-color: #d4ebff;}#sk-container-id-2 div.sk-label input.sk-toggleable__control:checked~label.sk-toggleable__label {background-color: #d4ebff;}#sk-container-id-2 input.sk-hidden--visually {border: 0;clip: rect(1px 1px 1px 1px);clip: rect(1px, 1px, 1px, 1px);height: 1px;margin: -1px;overflow: hidden;padding: 0;position: absolute;width: 1px;}#sk-container-id-2 div.sk-estimator {font-family: monospace;background-color: #f0f8ff;border: 1px dotted black;border-radius: 0.25em;box-sizing: border-box;margin-bottom: 0.5em;}#sk-container-id-2 div.sk-estimator:hover {background-color: #d4ebff;}#sk-container-id-2 div.sk-parallel-item::after {content: \"\";width: 100%;border-bottom: 1px solid gray;flex-grow: 1;}#sk-container-id-2 div.sk-label:hover label.sk-toggleable__label {background-color: #d4ebff;}#sk-container-id-2 div.sk-serial::before {content: \"\";position: absolute;border-left: 1px solid gray;box-sizing: border-box;top: 0;bottom: 0;left: 50%;z-index: 0;}#sk-container-id-2 div.sk-serial {display: flex;flex-direction: column;align-items: center;background-color: white;padding-right: 0.2em;padding-left: 0.2em;position: relative;}#sk-container-id-2 div.sk-item {position: relative;z-index: 1;}#sk-container-id-2 div.sk-parallel {display: flex;align-items: stretch;justify-content: center;background-color: white;position: relative;}#sk-container-id-2 div.sk-item::before, #sk-container-id-2 div.sk-parallel-item::before {content: \"\";position: absolute;border-left: 1px solid gray;box-sizing: border-box;top: 0;bottom: 0;left: 50%;z-index: -1;}#sk-container-id-2 div.sk-parallel-item {display: flex;flex-direction: column;z-index: 1;position: relative;background-color: white;}#sk-container-id-2 div.sk-parallel-item:first-child::after {align-self: flex-end;width: 50%;}#sk-container-id-2 div.sk-parallel-item:last-child::after {align-self: flex-start;width: 50%;}#sk-container-id-2 div.sk-parallel-item:only-child::after {width: 0;}#sk-container-id-2 div.sk-dashed-wrapped {border: 1px dashed gray;margin: 0 0.4em 0.5em 0.4em;box-sizing: border-box;padding-bottom: 0.4em;background-color: white;}#sk-container-id-2 div.sk-label label {font-family: monospace;font-weight: bold;display: inline-block;line-height: 1.2em;}#sk-container-id-2 div.sk-label-container {text-align: center;}#sk-container-id-2 div.sk-container {/* jupyter's `normalize.less` sets `[hidden] { display: none; }` but bootstrap.min.css set `[hidden] { display: none !important; }` so we also need the `!important` here to be able to override the default hidden behavior on the sphinx rendered scikit-learn.org. See: https://github.com/scikit-learn/scikit-learn/issues/21755 */display: inline-block !important;position: relative;}#sk-container-id-2 div.sk-text-repr-fallback {display: none;}</style><div id=\"sk-container-id-2\" class=\"sk-top-container\"><div class=\"sk-text-repr-fallback\"><pre>LogisticRegression(max_iter=200)</pre><b>In a Jupyter environment, please rerun this cell to show the HTML representation or trust the notebook. <br />On GitHub, the HTML representation is unable to render, please try loading this page with nbviewer.org.</b></div><div class=\"sk-container\" hidden><div class=\"sk-item\"><div class=\"sk-estimator sk-toggleable\"><input class=\"sk-toggleable__control sk-hidden--visually\" id=\"sk-estimator-id-2\" type=\"checkbox\" checked><label for=\"sk-estimator-id-2\" class=\"sk-toggleable__label sk-toggleable__label-arrow\">LogisticRegression</label><div class=\"sk-toggleable__content\"><pre>LogisticRegression(max_iter=200)</pre></div></div></div></div></div>"
      ],
      "text/plain": [
       "LogisticRegression(max_iter=200)"
      ]
     },
     "execution_count": 79,
     "metadata": {},
     "output_type": "execute_result"
    }
   ],
   "source": [
    "classification.fit(x_train,y_train)"
   ]
  },
  {
   "cell_type": "code",
   "execution_count": 81,
   "id": "31104367-64dc-4312-b543-f30509024c02",
   "metadata": {},
   "outputs": [],
   "source": [
    "y_pred=classification.predict(x_test)"
   ]
  },
  {
   "cell_type": "code",
   "execution_count": 83,
   "id": "4c1f3637-6da6-43f6-b5fa-9dc65198a1d3",
   "metadata": {},
   "outputs": [],
   "source": [
    "from sklearn.metrics import confusion_matrix, accuracy_score,classification_report"
   ]
  },
  {
   "cell_type": "code",
   "execution_count": 84,
   "id": "87e77d10-4403-4ba8-9c1d-9a8e4a93c67b",
   "metadata": {},
   "outputs": [
    {
     "data": {
      "text/plain": [
       "array([[236,   0],\n",
       "       [  0,  73]], dtype=int64)"
      ]
     },
     "execution_count": 84,
     "metadata": {},
     "output_type": "execute_result"
    }
   ],
   "source": [
    "confusion_matrix(y_test,y_pred)"
   ]
  },
  {
   "cell_type": "code",
   "execution_count": 85,
   "id": "c7f605a5-03bb-41f4-937d-a85986fe8a77",
   "metadata": {},
   "outputs": [
    {
     "data": {
      "text/plain": [
       "1.0"
      ]
     },
     "execution_count": 85,
     "metadata": {},
     "output_type": "execute_result"
    }
   ],
   "source": [
    "accuracy_score(y_test,y_pred)"
   ]
  },
  {
   "cell_type": "code",
   "execution_count": 87,
   "id": "7db09f0f-fbc2-4837-87b7-b5f7d77c8e9f",
   "metadata": {},
   "outputs": [
    {
     "name": "stdout",
     "output_type": "stream",
     "text": [
      "              precision    recall  f1-score   support\n",
      "\n",
      "           0       1.00      1.00      1.00       236\n",
      "           1       1.00      1.00      1.00        73\n",
      "\n",
      "    accuracy                           1.00       309\n",
      "   macro avg       1.00      1.00      1.00       309\n",
      "weighted avg       1.00      1.00      1.00       309\n",
      "\n"
     ]
    }
   ],
   "source": [
    "print(classification_report(y_test,y_pred))"
   ]
  },
  {
   "cell_type": "code",
   "execution_count": null,
   "id": "cd9e999a-dd5a-477e-9107-7c2f77753163",
   "metadata": {},
   "outputs": [],
   "source": []
  },
  {
   "cell_type": "code",
   "execution_count": null,
   "id": "7926d297-ff2f-4d38-a98f-a4e18cf0bb0b",
   "metadata": {},
   "outputs": [],
   "source": []
  },
  {
   "cell_type": "code",
   "execution_count": null,
   "id": "9c05ac80-b4ad-435c-bc7d-c7663387b5ec",
   "metadata": {},
   "outputs": [],
   "source": []
  },
  {
   "cell_type": "code",
   "execution_count": null,
   "id": "1a45285f-da23-482b-8218-834f494840a3",
   "metadata": {},
   "outputs": [],
   "source": []
  },
  {
   "cell_type": "code",
   "execution_count": null,
   "id": "b5b856a6-e4e3-4e70-b5bc-45b63ff4f1be",
   "metadata": {},
   "outputs": [],
   "source": []
  },
  {
   "cell_type": "code",
   "execution_count": null,
   "id": "8588a6e7-2bd2-4ec8-975f-064ec58514e2",
   "metadata": {},
   "outputs": [],
   "source": []
  },
  {
   "cell_type": "code",
   "execution_count": null,
   "id": "e3970fe0-0a48-4eb6-9c7d-3fb23febbe59",
   "metadata": {},
   "outputs": [],
   "source": []
  },
  {
   "cell_type": "code",
   "execution_count": null,
   "id": "8739b345-1554-495d-b07f-38583f2b1baf",
   "metadata": {},
   "outputs": [],
   "source": []
  },
  {
   "cell_type": "code",
   "execution_count": null,
   "id": "cba8953d-47ee-46c3-9d16-23a037b537ca",
   "metadata": {},
   "outputs": [],
   "source": []
  },
  {
   "cell_type": "code",
   "execution_count": null,
   "id": "aae16852-f9db-40b4-b9b0-015e80bddfdb",
   "metadata": {},
   "outputs": [],
   "source": []
  },
  {
   "cell_type": "code",
   "execution_count": null,
   "id": "e8e503ad-6bb1-4455-8bc8-83cf729197d3",
   "metadata": {},
   "outputs": [],
   "source": []
  },
  {
   "cell_type": "code",
   "execution_count": null,
   "id": "34a5fa97-1dd8-4d17-9631-fe01ba122a5e",
   "metadata": {},
   "outputs": [],
   "source": []
  },
  {
   "cell_type": "code",
   "execution_count": null,
   "id": "ff0e4ab5-dc51-4b1a-9bef-b8498f7357c2",
   "metadata": {},
   "outputs": [],
   "source": []
  }
 ],
 "metadata": {
  "kernelspec": {
   "display_name": "Python 3 (ipykernel)",
   "language": "python",
   "name": "python3"
  },
  "language_info": {
   "codemirror_mode": {
    "name": "ipython",
    "version": 3
   },
   "file_extension": ".py",
   "mimetype": "text/x-python",
   "name": "python",
   "nbconvert_exporter": "python",
   "pygments_lexer": "ipython3",
   "version": "3.11.5"
  }
 },
 "nbformat": 4,
 "nbformat_minor": 5
}
